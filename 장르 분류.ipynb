{
 "cells": [
  {
   "cell_type": "markdown",
   "id": "c15f578e-355d-43a3-8ce2-1b1d1ddc829b",
   "metadata": {},
   "source": [
    "### DACON_ 음악장르분류: optuna"
   ]
  },
  {
   "cell_type": "markdown",
   "id": "9fb9d7da-4fea-404e-a9df-0e163d6ea446",
   "metadata": {},
   "source": [
    "* 기본데이터로 다양한 모델을 적합시키고, 성능 상위 3개 모델을 optuna로 튜닝후 합치기\n",
    "* 타겟이 불균형하여 smote-tomek을 적용해봤지만 성능이 더 악화되 그냥 적용안했음"
   ]
  },
  {
   "cell_type": "code",
   "execution_count": 1,
   "id": "a1b6c8f3-e337-40d0-b014-5c2083e31749",
   "metadata": {},
   "outputs": [],
   "source": [
    "#base\n",
    "import random\n",
    "import numpy as np\n",
    "import pandas as pd\n",
    "import seaborn as sns\n",
    "import matplotlib.pyplot as plt\n",
    "from sklearn import preprocessing\n",
    "from collections import Counter\n",
    "\n",
    "#encoding\n",
    "from sklearn.preprocessing import LabelEncoder\n",
    "\n",
    "#scaling\n",
    "from sklearn.preprocessing import StandardScaler\n",
    "\n",
    "#sampling\n",
    "from imblearn.combine import SMOTETomek\n",
    "\n",
    "#module\n",
    "from sklearn.model_selection import StratifiedKFold , KFold, train_test_split, cross_val_score, cross_validate\n",
    "\n",
    "#scoring\n",
    "from sklearn.metrics import roc_auc_score\n",
    "from sklearn.metrics import accuracy_score\n",
    "from sklearn.metrics import f1_score \n",
    "\n",
    "#data_path\n",
    "test_path = \"C:/Users/hyo/Downloads/music_data/test.csv\"\n",
    "train_path = \"C:/Users/hyo/Downloads/music_data/train.csv\"\n",
    "\n",
    "#ensemble\n",
    "from sklearn.ensemble import VotingClassifier"
   ]
  },
  {
   "cell_type": "code",
   "execution_count": 2,
   "id": "00d176c7-9982-4681-99f1-7b1390c5143d",
   "metadata": {},
   "outputs": [],
   "source": [
    "data = pd.read_csv(train_path).drop(columns = [\"ID\"]) \n",
    "test = pd.read_csv(test_path).drop(columns = [\"ID\"])"
   ]
  },
  {
   "cell_type": "code",
   "execution_count": 3,
   "id": "c259e3e4-b49a-414d-b01e-1969a1d5c75c",
   "metadata": {},
   "outputs": [],
   "source": [
    "#encoding\n",
    "le=LabelEncoder()\n",
    "le.fit(data[\"genre\"])\n",
    "data[\"genre\"]=le.transform(data[\"genre\"])"
   ]
  },
  {
   "cell_type": "code",
   "execution_count": 4,
   "id": "996cf2b8-9d70-4cfb-a638-6f92779d4e19",
   "metadata": {},
   "outputs": [],
   "source": [
    "#scaling\n",
    "y = data[\"genre\"]\n",
    "\n",
    "train_x = data.drop(columns='genre')\n",
    "\n",
    "col_names = list(train_x.columns)\n",
    "\n",
    "s_scaler = StandardScaler()\n",
    "x_scaled = s_scaler.fit_transform(train_x)\n",
    "tet_x_scaled = s_scaler.fit_transform(test)"
   ]
  },
  {
   "cell_type": "code",
   "execution_count": 5,
   "id": "ce910c18-d1fd-40fe-acc7-015c81e3bc7f",
   "metadata": {},
   "outputs": [],
   "source": [
    "x = pd.DataFrame(x_scaled, columns=col_names) \n",
    "tet_x = pd.DataFrame(tet_x_scaled, columns=col_names) "
   ]
  },
  {
   "cell_type": "markdown",
   "id": "35bad833-4928-4afe-933b-5fd9f945640b",
   "metadata": {},
   "source": [
    "### modeling & optuna"
   ]
  },
  {
   "cell_type": "code",
   "execution_count": 19,
   "id": "1b6f0686-aaa8-4f8b-8f92-61a983fbc729",
   "metadata": {},
   "outputs": [],
   "source": [
    "from sklearn.ensemble import BaggingClassifier, RandomForestClassifier,AdaBoostClassifier,GradientBoostingClassifier,ExtraTreesClassifier,VotingClassifier\n",
    "from sklearn.linear_model import LogisticRegression\n",
    "from sklearn.tree import DecisionTreeClassifier\n",
    "from sklearn.svm import SVC\n",
    "from lightgbm import LGBMClassifier\n",
    "from xgboost import XGBClassifier\n",
    "from sklearn.model_selection import GridSearchCV,cross_val_score,StratifiedKFold,learning_curve,cross_val_predict"
   ]
  },
  {
   "cell_type": "code",
   "execution_count": 20,
   "id": "d30960cb-6db0-480f-a6f4-d27517dd4bd9",
   "metadata": {},
   "outputs": [],
   "source": [
    "skf = StratifiedKFold(n_splits=5, shuffle=True, random_state=42)"
   ]
  },
  {
   "cell_type": "code",
   "execution_count": 22,
   "id": "79087188-a774-4fb7-a681-92c94ee4115f",
   "metadata": {},
   "outputs": [
    {
     "data": {
      "text/plain": [
       "Text(0.5, 0, 'Mean f1score')"
      ]
     },
     "execution_count": 22,
     "metadata": {},
     "output_type": "execute_result"
    },
    {
     "data": {
      "image/png": "[encoded data removed]",
      "text/plain": [
       "<Figure size 432x288 with 1 Axes>"
      ]
     },
     "metadata": {
      "needs_background": "light"
     },
     "output_type": "display_data"
    }
   ],
   "source": [
    "random_state=42\n",
    "name_classifiers=[(\"Bagging\", BaggingClassifier(random_state=random_state)),\\\n",
    "                  (\"RandomForest\", RandomForestClassifier(random_state=random_state)),\\\n",
    "                  (\"AdaBoost\", AdaBoostClassifier(random_state=random_state)),\\\n",
    "                  (\"DecisionTreeClassifier\", DecisionTreeClassifier(random_state=random_state)),\\\n",
    "                  (\"ExtraTrees\",ExtraTreesClassifier(random_state=random_state)),\\\n",
    "                  (\"SVC\", SVC(random_state=random_state)),\\\n",
    "                  (\"LGBM\",LGBMClassifier(random_state=random_state)),\\\n",
    "                  (\"XGB\",XGBClassifier(random_state=random_state)),\\\n",
    "                  (\"GradientBoosting\",GradientBoostingClassifier(random_state=random_state))]\n",
    "modelname=[]\n",
    "scores=[]\n",
    "f1_mean=[]\n",
    "f1_std=[]\n",
    "i=0\n",
    "for name,model in name_classifiers:\n",
    "    #print(name,model)\n",
    "    modelname.append(name)\n",
    "    scores.append(cross_val_score(model, x, y, scoring=\"f1_macro\",verbose=0,n_jobs=4,cv=skf))\n",
    "    f1_mean.append(scores[i].mean())\n",
    "    f1_std.append(scores[i].std())\n",
    "\n",
    "    i+=1\n",
    "cv_res=pd.DataFrame({\"Algorithm\":modelname,\"CV_mean\":f1_mean,\"CV_std\":f1_std})\n",
    "g=sns.barplot(data=cv_res, orient='h', y=\"Algorithm\", x=\"CV_mean\",palette=\"Set3\",**{\"xerr\":f1_std})\n",
    "g.set_title(\"Cross validation scores\")\n",
    "g.set_ylabel(\"Algorithm\")\n",
    "g.set_xlabel(\"Mean f1score\")"
   ]
  },
  {
   "cell_type": "code",
   "execution_count": 13,
   "id": "c36413ca-74b5-49c2-9059-031a20c2f93e",
   "metadata": {},
   "outputs": [],
   "source": [
    "# optuna \n",
    "import optuna\n",
    "from optuna import Trial, visualization\n",
    "from optuna.samplers import TPESampler\n",
    "from sklearn.metrics import log_loss"
   ]
  },
  {
   "cell_type": "code",
   "execution_count": 42,
   "id": "86e5b8af-54fd-443a-b2d3-4c5ca08f1050",
   "metadata": {},
   "outputs": [
    {
     "name": "stderr",
     "output_type": "stream",
     "text": [
      "\u001b[32m[I 2023-01-30 09:16:41,404]\u001b[0m A new study created in memory with name: no-name-624de4d0-2212-4c7d-ab54-b93a190fd580\u001b[0m\n",
      "\u001b[32m[I 2023-01-30 09:17:48,954]\u001b[0m Trial 0 finished with value: 0.9451739772128485 and parameters: {'max_depth': 6, 'n_estimators': 956, 'learning_rate': 0.08391963650868431, 'colsample_bytree': 0.6190609389379256, 'subsample': 0.3092130483097056, 'min_child_samples': 21, 'min_child_weight': 2.1035886311957896}. Best is trial 0 with value: 0.9451739772128485.\u001b[0m\n",
      "\u001b[32m[I 2023-01-30 09:18:46,898]\u001b[0m Trial 1 finished with value: 0.9130381086364912 and parameters: {'max_depth': 13, 'n_estimators': 641, 'learning_rate': 0.08248435466776274, 'colsample_bytree': 0.21440914600706173, 'subsample': 0.8789368965133959, 'min_child_samples': 29, 'min_child_weight': 5.034443102887247}. Best is trial 0 with value: 0.9451739772128485.\u001b[0m\n",
      "\u001b[32m[I 2023-01-30 09:18:59,061]\u001b[0m Trial 2 finished with value: 0.9554789263106664 and parameters: {'max_depth': 3, 'n_estimators': 265, 'learning_rate': 0.058254534577572264, 'colsample_bytree': 0.5673295021425665, 'subsample': 0.502361513049481, 'min_child_samples': 23, 'min_child_weight': 12.62520499972521}. Best is trial 2 with value: 0.9554789263106664.\u001b[0m\n",
      "\u001b[32m[I 2023-01-30 09:19:15,513]\u001b[0m Trial 3 finished with value: 0.9554251927787891 and parameters: {'max_depth': 3, 'n_estimators': 363, 'learning_rate': 0.0619817105976215, 'colsample_bytree': 0.5192489889519252, 'subsample': 0.7496231729751095, 'min_child_samples': 22, 'min_child_weight': 10.770454329858621}. Best is trial 2 with value: 0.9554789263106664.\u001b[0m\n",
      "\u001b[32m[I 2023-01-30 09:19:26,438]\u001b[0m Trial 4 finished with value: 0.9525519015056874 and parameters: {'max_depth': 9, 'n_estimators': 141, 'learning_rate': 0.07645269111408631, 'colsample_bytree': 0.31936688658110407, 'subsample': 0.24553611508969567, 'min_child_samples': 30, 'min_child_weight': 19.347008628416628}. Best is trial 2 with value: 0.9554789263106664.\u001b[0m\n",
      "\u001b[32m[I 2023-01-30 09:20:02,424]\u001b[0m Trial 5 finished with value: 0.9511466368425783 and parameters: {'max_depth': 13, 'n_estimators': 374, 'learning_rate': 0.045860326840383034, 'colsample_bytree': 0.6789631185585099, 'subsample': 0.5081067456177208, 'min_child_samples': 21, 'min_child_weight': 10.408361292114133}. Best is trial 2 with value: 0.9554789263106664.\u001b[0m\n",
      "\u001b[32m[I 2023-01-30 09:20:31,307]\u001b[0m Trial 6 finished with value: 0.9531015636150528 and parameters: {'max_depth': 1, 'n_estimators': 919, 'learning_rate': 0.05552679889600102, 'colsample_bytree': 0.6637655990477873, 'subsample': 0.4181977532625877, 'min_child_samples': 25, 'min_child_weight': 11.387495307522313}. Best is trial 2 with value: 0.9554789263106664.\u001b[0m\n",
      "\u001b[32m[I 2023-01-30 09:21:19,780]\u001b[0m Trial 7 finished with value: 0.9505225285382964 and parameters: {'max_depth': 3, 'n_estimators': 973, 'learning_rate': 0.08650796940166688, 'colsample_bytree': 0.8576492590949323, 'subsample': 0.8263791452993541, 'min_child_samples': 26, 'min_child_weight': 18.51561046543922}. Best is trial 2 with value: 0.9554789263106664.\u001b[0m\n",
      "\u001b[32m[I 2023-01-30 09:21:30,467]\u001b[0m Trial 8 finished with value: 0.9531846835504392 and parameters: {'max_depth': 2, 'n_estimators': 276, 'learning_rate': 0.042713637334632286, 'colsample_bytree': 0.42773123153428505, 'subsample': 0.4720741027826374, 'min_child_samples': 22, 'min_child_weight': 16.746012673886657}. Best is trial 2 with value: 0.9554789263106664.\u001b[0m\n",
      "\u001b[32m[I 2023-01-30 09:21:54,059]\u001b[0m Trial 9 finished with value: 0.9516306361176273 and parameters: {'max_depth': 6, 'n_estimators': 353, 'learning_rate': 0.0725617649894949, 'colsample_bytree': 0.29864695748233383, 'subsample': 0.7615378865278277, 'min_child_samples': 20, 'min_child_weight': 19.75085179540983}. Best is trial 2 with value: 0.9554789263106664.\u001b[0m\n",
      "\u001b[32m[I 2023-01-30 09:22:44,582]\u001b[0m Trial 10 finished with value: 0.944770132347048 and parameters: {'max_depth': 10, 'n_estimators': 603, 'learning_rate': 0.09817222664727196, 'colsample_bytree': 0.8171755156296215, 'subsample': 0.6480619517272895, 'min_child_samples': 25, 'min_child_weight': 14.577841598875501}. Best is trial 2 with value: 0.9554789263106664.\u001b[0m\n",
      "\u001b[32m[I 2023-01-30 09:23:16,417]\u001b[0m Trial 11 finished with value: 0.9526387698790708 and parameters: {'max_depth': 5, 'n_estimators': 468, 'learning_rate': 0.05926321013850569, 'colsample_bytree': 0.5104087197637082, 'subsample': 0.6499884002516242, 'min_child_samples': 23, 'min_child_weight': 9.252769163371813}. Best is trial 2 with value: 0.9554789263106664.\u001b[0m\n",
      "\u001b[32m[I 2023-01-30 09:23:23,658]\u001b[0m Trial 12 finished with value: 0.9549510738199278 and parameters: {'max_depth': 4, 'n_estimators': 130, 'learning_rate': 0.06342474440722255, 'colsample_bytree': 0.4987119039135331, 'subsample': 0.6596925948707844, 'min_child_samples': 23, 'min_child_weight': 13.40706004274006}. Best is trial 2 with value: 0.9554789263106664.\u001b[0m\n",
      "\u001b[32m[I 2023-01-30 09:23:30,261]\u001b[0m Trial 13 finished with value: 0.9471878929528317 and parameters: {'max_depth': 1, 'n_estimators': 223, 'learning_rate': 0.052142010434764866, 'colsample_bytree': 0.7403468086660501, 'subsample': 0.3808364807469186, 'min_child_samples': 24, 'min_child_weight': 7.382218403300742}. Best is trial 2 with value: 0.9554789263106664.\u001b[0m\n",
      "\u001b[32m[I 2023-01-30 09:24:06,730]\u001b[0m Trial 14 finished with value: 0.949552018477049 and parameters: {'max_depth': 8, 'n_estimators': 469, 'learning_rate': 0.06628781004946807, 'colsample_bytree': 0.4228830283568199, 'subsample': 0.5683188766993619, 'min_child_samples': 27, 'min_child_weight': 14.076360727053789}. Best is trial 2 with value: 0.9554789263106664.\u001b[0m\n",
      "\u001b[32m[I 2023-01-30 09:25:05,270]\u001b[0m Trial 15 finished with value: 0.9486657596904989 and parameters: {'max_depth': 7, 'n_estimators': 732, 'learning_rate': 0.05100235120391722, 'colsample_bytree': 0.5838290071974302, 'subsample': 0.7386749065410524, 'min_child_samples': 23, 'min_child_weight': 7.350909445937126}. Best is trial 2 with value: 0.9554789263106664.\u001b[0m\n",
      "\u001b[32m[I 2023-01-30 09:25:21,422]\u001b[0m Trial 16 finished with value: 0.9546559476203025 and parameters: {'max_depth': 4, 'n_estimators': 285, 'learning_rate': 0.06464781012266167, 'colsample_bytree': 0.4180971708975384, 'subsample': 0.5819537927014171, 'min_child_samples': 20, 'min_child_weight': 12.210414049479825}. Best is trial 2 with value: 0.9554789263106664.\u001b[0m\n",
      "\u001b[32m[I 2023-01-30 09:26:03,195]\u001b[0m Trial 17 finished with value: 0.9486433136876178 and parameters: {'max_depth': 11, 'n_estimators': 468, 'learning_rate': 0.059265997403579955, 'colsample_bytree': 0.7575513341456639, 'subsample': 0.7107077328141002, 'min_child_samples': 27, 'min_child_weight': 16.727957929693282}. Best is trial 2 with value: 0.9554789263106664.\u001b[0m\n",
      "\u001b[32m[I 2023-01-30 09:26:38,581]\u001b[0m Trial 18 finished with value: 0.9479613297845069 and parameters: {'max_depth': 15, 'n_estimators': 377, 'learning_rate': 0.07375077142152049, 'colsample_bytree': 0.5550654413481346, 'subsample': 0.8149825556405048, 'min_child_samples': 22, 'min_child_weight': 8.201213748883351}. Best is trial 2 with value: 0.9554789263106664.\u001b[0m\n",
      "\u001b[32m[I 2023-01-30 09:27:13,887]\u001b[0m Trial 19 finished with value: 0.9548110397316633 and parameters: {'max_depth': 3, 'n_estimators': 736, 'learning_rate': 0.04759045422392255, 'colsample_bytree': 0.4980596762061779, 'subsample': 0.3771892293956247, 'min_child_samples': 24, 'min_child_weight': 5.23417367571746}. Best is trial 2 with value: 0.9554789263106664.\u001b[0m\n",
      "\u001b[32m[I 2023-01-30 09:27:27,820]\u001b[0m Trial 20 finished with value: 0.9538995059027884 and parameters: {'max_depth': 5, 'n_estimators': 212, 'learning_rate': 0.05761811699744645, 'colsample_bytree': 0.36000026536438556, 'subsample': 0.4939661773041098, 'min_child_samples': 22, 'min_child_weight': 15.897806331829342}. Best is trial 2 with value: 0.9554789263106664.\u001b[0m\n",
      "\u001b[32m[I 2023-01-30 09:27:33,550]\u001b[0m Trial 21 finished with value: 0.9538876931705413 and parameters: {'max_depth': 3, 'n_estimators': 112, 'learning_rate': 0.06312722549157866, 'colsample_bytree': 0.4904284593512517, 'subsample': 0.6273493279987289, 'min_child_samples': 23, 'min_child_weight': 12.691592631254096}. Best is trial 2 with value: 0.9554789263106664.\u001b[0m\n",
      "\u001b[32m[I 2023-01-30 09:27:43,824]\u001b[0m Trial 22 finished with value: 0.9554172342971482 and parameters: {'max_depth': 4, 'n_estimators': 176, 'learning_rate': 0.0690197519985018, 'colsample_bytree': 0.6223241079588481, 'subsample': 0.6934324655585224, 'min_child_samples': 24, 'min_child_weight': 13.487016564741019}. Best is trial 2 with value: 0.9554789263106664.\u001b[0m\n",
      "\u001b[32m[I 2023-01-30 09:27:52,645]\u001b[0m Trial 23 finished with value: 0.9546913323126512 and parameters: {'max_depth': 2, 'n_estimators': 232, 'learning_rate': 0.07820888299383429, 'colsample_bytree': 0.6362379600427202, 'subsample': 0.7053377381519915, 'min_child_samples': 24, 'min_child_weight': 10.198331224124992}. Best is trial 2 with value: 0.9554789263106664.\u001b[0m\n",
      "\u001b[32m[I 2023-01-30 09:28:15,087]\u001b[0m Trial 24 finished with value: 0.9532516784260994 and parameters: {'max_depth': 5, 'n_estimators': 324, 'learning_rate': 0.06875787811875243, 'colsample_bytree': 0.6941824657643589, 'subsample': 0.7886819948374645, 'min_child_samples': 26, 'min_child_weight': 15.35259734806667}. Best is trial 2 with value: 0.9554789263106664.\u001b[0m\n",
      "\u001b[32m[I 2023-01-30 09:28:48,563]\u001b[0m Trial 25 finished with value: 0.9500815949669295 and parameters: {'max_depth': 7, 'n_estimators': 417, 'learning_rate': 0.06961957033132109, 'colsample_bytree': 0.5576524228118287, 'subsample': 0.8787234046775775, 'min_child_samples': 21, 'min_child_weight': 11.739933798895459}. Best is trial 2 with value: 0.9554789263106664.\u001b[0m\n",
      "\u001b[32m[I 2023-01-30 09:28:56,235]\u001b[0m Trial 26 finished with value: 0.9533142949625067 and parameters: {'max_depth': 2, 'n_estimators': 196, 'learning_rate': 0.054442465666615314, 'colsample_bytree': 0.6156797185419797, 'subsample': 0.5959062348884266, 'min_child_samples': 24, 'min_child_weight': 9.393803974855226}. Best is trial 2 with value: 0.9554789263106664.\u001b[0m\n",
      "\u001b[32m[I 2023-01-30 09:29:12,864]\u001b[0m Trial 27 finished with value: 0.9538278109426455 and parameters: {'max_depth': 4, 'n_estimators': 277, 'learning_rate': 0.09199508046565844, 'colsample_bytree': 0.7314383219362763, 'subsample': 0.5404225843632202, 'min_child_samples': 22, 'min_child_weight': 13.377891974674068}. Best is trial 2 with value: 0.9554789263106664.\u001b[0m\n",
      "\u001b[32m[I 2023-01-30 09:29:30,073]\u001b[0m Trial 28 finished with value: 0.9519367976571936 and parameters: {'max_depth': 1, 'n_estimators': 533, 'learning_rate': 0.06097138179535541, 'colsample_bytree': 0.4600897616988207, 'subsample': 0.7008545173428383, 'min_child_samples': 26, 'min_child_weight': 17.784070643109743}. Best is trial 2 with value: 0.9554789263106664.\u001b[0m\n",
      "\u001b[32m[I 2023-01-30 09:29:45,815]\u001b[0m Trial 29 finished with value: 0.954142695864737 and parameters: {'max_depth': 6, 'n_estimators': 181, 'learning_rate': 0.06804312677722017, 'colsample_bytree': 0.6396939583630158, 'subsample': 0.2863946475838413, 'min_child_samples': 21, 'min_child_weight': 5.951412218521031}. Best is trial 2 with value: 0.9554789263106664.\u001b[0m\n",
      "\u001b[32m[I 2023-01-30 09:30:14,165]\u001b[0m Trial 30 finished with value: 0.9504194514608064 and parameters: {'max_depth': 7, 'n_estimators': 304, 'learning_rate': 0.07929525606096312, 'colsample_bytree': 0.5714198205606636, 'subsample': 0.43963363881617035, 'min_child_samples': 25, 'min_child_weight': 1.4180824022991505}. Best is trial 2 with value: 0.9554789263106664.\u001b[0m\n",
      "\u001b[32m[I 2023-01-30 09:30:20,800]\u001b[0m Trial 31 finished with value: 0.954583898477481 and parameters: {'max_depth': 3, 'n_estimators': 135, 'learning_rate': 0.0632057078058649, 'colsample_bytree': 0.6018587343659025, 'subsample': 0.6787274622436175, 'min_child_samples': 23, 'min_child_weight': 13.545902324770063}. Best is trial 2 with value: 0.9554789263106664.\u001b[0m\n",
      "\u001b[32m[I 2023-01-30 09:30:27,324]\u001b[0m Trial 32 finished with value: 0.9555087416428916 and parameters: {'max_depth': 4, 'n_estimators': 103, 'learning_rate': 0.07125121164173523, 'colsample_bytree': 0.5319728172908167, 'subsample': 0.608319763035672, 'min_child_samples': 23, 'min_child_weight': 2.8789607525684024}. Best is trial 32 with value: 0.9555087416428916.\u001b[0m\n",
      "\u001b[32m[I 2023-01-30 09:30:37,315]\u001b[0m Trial 33 finished with value: 0.9559453741478465 and parameters: {'max_depth': 4, 'n_estimators': 169, 'learning_rate': 0.07707976699983075, 'colsample_bytree': 0.5305649634548288, 'subsample': 0.6103289301978078, 'min_child_samples': 22, 'min_child_weight': 3.0308685520055603}. Best is trial 33 with value: 0.9559453741478465.\u001b[0m\n",
      "\u001b[32m[I 2023-01-30 09:30:45,437]\u001b[0m Trial 34 finished with value: 0.9554222707921736 and parameters: {'max_depth': 5, 'n_estimators': 106, 'learning_rate': 0.08633650954612052, 'colsample_bytree': 0.5448245591237182, 'subsample': 0.5323973594708117, 'min_child_samples': 22, 'min_child_weight': 3.0185607171134072}. Best is trial 33 with value: 0.9559453741478465.\u001b[0m\n",
      "\u001b[32m[I 2023-01-30 09:30:55,022]\u001b[0m Trial 35 finished with value: 0.9544550280928994 and parameters: {'max_depth': 2, 'n_estimators': 241, 'learning_rate': 0.07371932368490551, 'colsample_bytree': 0.36060995510494714, 'subsample': 0.6081863376043259, 'min_child_samples': 21, 'min_child_weight': 3.337648175996145}. Best is trial 33 with value: 0.9559453741478465.\u001b[0m\n",
      "\u001b[32m[I 2023-01-30 09:31:15,650]\u001b[0m Trial 36 finished with value: 0.954748197164612 and parameters: {'max_depth': 3, 'n_estimators': 401, 'learning_rate': 0.08131010082196775, 'colsample_bytree': 0.5275172564765538, 'subsample': 0.4438948590431054, 'min_child_samples': 20, 'min_child_weight': 3.268091623791805}. Best is trial 33 with value: 0.9559453741478465.\u001b[0m\n",
      "\u001b[32m[I 2023-01-30 09:31:31,517]\u001b[0m Trial 37 finished with value: 0.952586080604162 and parameters: {'max_depth': 8, 'n_estimators': 180, 'learning_rate': 0.07590997844214947, 'colsample_bytree': 0.4712305224090148, 'subsample': 0.5158835207582535, 'min_child_samples': 30, 'min_child_weight': 4.30526106886768}. Best is trial 33 with value: 0.9559453741478465.\u001b[0m\n",
      "\u001b[32m[I 2023-01-30 09:31:57,256]\u001b[0m Trial 38 finished with value: 0.9506308889549377 and parameters: {'max_depth': 6, 'n_estimators': 333, 'learning_rate': 0.08433774999443314, 'colsample_bytree': 0.438388673943481, 'subsample': 0.2163712751769255, 'min_child_samples': 22, 'min_child_weight': 6.279841820505936}. Best is trial 33 with value: 0.9559453741478465.\u001b[0m\n",
      "\u001b[32m[I 2023-01-30 09:32:03,816]\u001b[0m Trial 39 finished with value: 0.9431117191711648 and parameters: {'max_depth': 1, 'n_estimators': 253, 'learning_rate': 0.04032751452263879, 'colsample_bytree': 0.25725398835297586, 'subsample': 0.8877252597393279, 'min_child_samples': 21, 'min_child_weight': 1.376604209701322}. Best is trial 33 with value: 0.9559453741478465.\u001b[0m\n",
      "\u001b[32m[I 2023-01-30 09:32:09,722]\u001b[0m Trial 40 finished with value: 0.9525115803418517 and parameters: {'max_depth': 2, 'n_estimators': 160, 'learning_rate': 0.0718977597476779, 'colsample_bytree': 0.37260293835398534, 'subsample': 0.3704601881351403, 'min_child_samples': 29, 'min_child_weight': 10.548142592788526}. Best is trial 33 with value: 0.9559453741478465.\u001b[0m\n",
      "\u001b[32m[I 2023-01-30 09:32:18,125]\u001b[0m Trial 41 finished with value: 0.9553195376359233 and parameters: {'max_depth': 5, 'n_estimators': 101, 'learning_rate': 0.08890921458740401, 'colsample_bytree': 0.5324749791879445, 'subsample': 0.5373909231363286, 'min_child_samples': 22, 'min_child_weight': 3.3343202460918087}. Best is trial 33 with value: 0.9559453741478465.\u001b[0m\n",
      "\u001b[32m[I 2023-01-30 09:32:27,279]\u001b[0m Trial 42 finished with value: 0.9555439269124497 and parameters: {'max_depth': 4, 'n_estimators': 148, 'learning_rate': 0.09046903837120496, 'colsample_bytree': 0.543332864663905, 'subsample': 0.4748111549387986, 'min_child_samples': 23, 'min_child_weight': 2.6073756039776295}. Best is trial 33 with value: 0.9559453741478465.\u001b[0m\n",
      "\u001b[32m[I 2023-01-30 09:32:36,660]\u001b[0m Trial 43 finished with value: 0.9551611001119132 and parameters: {'max_depth': 4, 'n_estimators': 158, 'learning_rate': 0.0981985977151228, 'colsample_bytree': 0.6688418862646978, 'subsample': 0.46570457413608146, 'min_child_samples': 23, 'min_child_weight': 2.3686750616521417}. Best is trial 33 with value: 0.9559453741478465.\u001b[0m\n",
      "\u001b[32m[I 2023-01-30 09:32:49,793]\u001b[0m Trial 44 finished with value: 0.9545728295290875 and parameters: {'max_depth': 4, 'n_estimators': 234, 'learning_rate': 0.0944103749743308, 'colsample_bytree': 0.461544697701295, 'subsample': 0.56292085360738, 'min_child_samples': 23, 'min_child_weight': 4.553014641346513}. Best is trial 33 with value: 0.9559453741478465.\u001b[0m\n",
      "\u001b[32m[I 2023-01-30 09:34:02,063]\u001b[0m Trial 45 finished with value: 0.9476138486332429 and parameters: {'max_depth': 6, 'n_estimators': 895, 'learning_rate': 0.056258921194484536, 'colsample_bytree': 0.592863778835606, 'subsample': 0.4893446549408961, 'min_child_samples': 25, 'min_child_weight': 2.0876441448735705}. Best is trial 33 with value: 0.9559453741478465.\u001b[0m\n",
      "\u001b[32m[I 2023-01-30 09:34:14,237]\u001b[0m Trial 46 finished with value: 0.9551803968736274 and parameters: {'max_depth': 3, 'n_estimators': 273, 'learning_rate': 0.09352340896903293, 'colsample_bytree': 0.516275807209663, 'subsample': 0.40861425041941857, 'min_child_samples': 21, 'min_child_weight': 8.353146303977248}. Best is trial 33 with value: 0.9559453741478465.\u001b[0m\n",
      "\u001b[32m[I 2023-01-30 09:34:26,537]\u001b[0m Trial 47 finished with value: 0.9523561490967447 and parameters: {'max_depth': 11, 'n_estimators': 143, 'learning_rate': 0.06598676826369564, 'colsample_bytree': 0.3928698125168268, 'subsample': 0.3313866646051864, 'min_child_samples': 24, 'min_child_weight': 10.77496256517447}. Best is trial 33 with value: 0.9559453741478465.\u001b[0m\n",
      "\u001b[32m[I 2023-01-30 09:34:58,896]\u001b[0m Trial 48 finished with value: 0.9513384816930883 and parameters: {'max_depth': 9, 'n_estimators': 348, 'learning_rate': 0.051646993585188525, 'colsample_bytree': 0.5755251698100631, 'subsample': 0.740623211388383, 'min_child_samples': 22, 'min_child_weight': 4.374322164377397}. Best is trial 33 with value: 0.9559453741478465.\u001b[0m\n",
      "\u001b[32m[I 2023-01-30 09:35:06,870]\u001b[0m Trial 49 finished with value: 0.9539775914499611 and parameters: {'max_depth': 2, 'n_estimators': 206, 'learning_rate': 0.0604544192791721, 'colsample_bytree': 0.6907755031687439, 'subsample': 0.6260617101923198, 'min_child_samples': 23, 'min_child_weight': 6.915848643095921}. Best is trial 33 with value: 0.9559453741478465.\u001b[0m\n",
      "\u001b[32m[I 2023-01-30 09:35:40,748]\u001b[0m Trial 50 finished with value: 0.9503264180665428 and parameters: {'max_depth': 5, 'n_estimators': 500, 'learning_rate': 0.07637912155006059, 'colsample_bytree': 0.49606322635661476, 'subsample': 0.5705879356544961, 'min_child_samples': 23, 'min_child_weight': 5.223232188735014}. Best is trial 33 with value: 0.9559453741478465.\u001b[0m\n",
      "\u001b[32m[I 2023-01-30 09:35:47,219]\u001b[0m Trial 51 finished with value: 0.9558505750001846 and parameters: {'max_depth': 4, 'n_estimators': 110, 'learning_rate': 0.08761649021056694, 'colsample_bytree': 0.5376855156028496, 'subsample': 0.5365659862446106, 'min_child_samples': 22, 'min_child_weight': 2.5358683743306716}. Best is trial 33 with value: 0.9559453741478465.\u001b[0m\n",
      "\u001b[32m[I 2023-01-30 09:35:55,409]\u001b[0m Trial 52 finished with value: 0.9555332428540704 and parameters: {'max_depth': 4, 'n_estimators': 141, 'learning_rate': 0.08392812712627315, 'colsample_bytree': 0.5195330444138891, 'subsample': 0.5093634075830661, 'min_child_samples': 22, 'min_child_weight': 1.1129235937780666}. Best is trial 33 with value: 0.9559453741478465.\u001b[0m\n",
      "\u001b[32m[I 2023-01-30 09:36:03,719]\u001b[0m Trial 53 finished with value: 0.9556721320974038 and parameters: {'max_depth': 4, 'n_estimators': 140, 'learning_rate': 0.08939123938380147, 'colsample_bytree': 0.5355167865849325, 'subsample': 0.5178356814923484, 'min_child_samples': 20, 'min_child_weight': 1.0936955926884087}. Best is trial 33 with value: 0.9559453741478465.\u001b[0m\n",
      "\u001b[32m[I 2023-01-30 09:36:11,842]\u001b[0m Trial 54 finished with value: 0.9556856082222547 and parameters: {'max_depth': 4, 'n_estimators': 137, 'learning_rate': 0.09010378414101824, 'colsample_bytree': 0.5435186769805423, 'subsample': 0.5109456906704114, 'min_child_samples': 20, 'min_child_weight': 1.047369480136926}. Best is trial 33 with value: 0.9559453741478465.\u001b[0m\n",
      "\u001b[32m[I 2023-01-30 09:36:22,199]\u001b[0m Trial 55 finished with value: 0.9546285401482375 and parameters: {'max_depth': 5, 'n_estimators': 143, 'learning_rate': 0.08905768111138791, 'colsample_bytree': 0.4755305200517411, 'subsample': 0.4682459418745505, 'min_child_samples': 20, 'min_child_weight': 1.0693180016170518}. Best is trial 33 with value: 0.9559453741478465.\u001b[0m\n",
      "\u001b[32m[I 2023-01-30 09:36:31,368]\u001b[0m Trial 56 finished with value: 0.9559090815094887 and parameters: {'max_depth': 3, 'n_estimators': 200, 'learning_rate': 0.08268692763210568, 'colsample_bytree': 0.5577399390201391, 'subsample': 0.5223199334915387, 'min_child_samples': 20, 'min_child_weight': 2.1005470285675822}. Best is trial 33 with value: 0.9559453741478465.\u001b[0m\n",
      "\u001b[32m[I 2023-01-30 09:36:41,398]\u001b[0m Trial 57 finished with value: 0.9557000452849623 and parameters: {'max_depth': 3, 'n_estimators': 200, 'learning_rate': 0.09051601426086413, 'colsample_bytree': 0.6478525824110911, 'subsample': 0.4152516557614294, 'min_child_samples': 20, 'min_child_weight': 2.0508905967582107}. Best is trial 33 with value: 0.9559453741478465.\u001b[0m\n",
      "\u001b[32m[I 2023-01-30 09:36:52,339]\u001b[0m Trial 58 finished with value: 0.9555874997705787 and parameters: {'max_depth': 3, 'n_estimators': 210, 'learning_rate': 0.0964639888250494, 'colsample_bytree': 0.6481592656373432, 'subsample': 0.41367819250384447, 'min_child_samples': 20, 'min_child_weight': 2.067361653287754}. Best is trial 33 with value: 0.9559453741478465.\u001b[0m\n",
      "\u001b[32m[I 2023-01-30 09:37:16,591]\u001b[0m Trial 59 finished with value: 0.953739390478229 and parameters: {'max_depth': 1, 'n_estimators': 648, 'learning_rate': 0.08709989542229024, 'colsample_bytree': 0.8230694133868328, 'subsample': 0.43620712000280965, 'min_child_samples': 20, 'min_child_weight': 3.9369476160998795}. Best is trial 33 with value: 0.9559453741478465.\u001b[0m\n",
      "\u001b[32m[I 2023-01-30 09:37:31,861]\u001b[0m Trial 60 finished with value: 0.953123644553671 and parameters: {'max_depth': 6, 'n_estimators': 178, 'learning_rate': 0.08161980392448265, 'colsample_bytree': 0.6085769578823711, 'subsample': 0.516177629212422, 'min_child_samples': 20, 'min_child_weight': 1.9082653642894551}. Best is trial 33 with value: 0.9559453741478465.\u001b[0m\n",
      "\u001b[32m[I 2023-01-30 09:37:41,710]\u001b[0m Trial 61 finished with value: 0.9555085494821101 and parameters: {'max_depth': 3, 'n_estimators': 207, 'learning_rate': 0.09692725563807858, 'colsample_bytree': 0.7159718361730512, 'subsample': 0.34361282575977825, 'min_child_samples': 20, 'min_child_weight': 1.8981996333258342}. Best is trial 33 with value: 0.9559453741478465.\u001b[0m\n",
      "\u001b[32m[I 2023-01-30 09:37:53,452]\u001b[0m Trial 62 finished with value: 0.9553617872383785 and parameters: {'max_depth': 3, 'n_estimators': 252, 'learning_rate': 0.09526701159132761, 'colsample_bytree': 0.6498619289839569, 'subsample': 0.38818536726520836, 'min_child_samples': 21, 'min_child_weight': 3.652944597630724}. Best is trial 33 with value: 0.9559453741478465.\u001b[0m\n",
      "\u001b[32m[I 2023-01-30 09:38:04,430]\u001b[0m Trial 63 finished with value: 0.9556346267863217 and parameters: {'max_depth': 2, 'n_estimators': 299, 'learning_rate': 0.0918420022132381, 'colsample_bytree': 0.5856332871456471, 'subsample': 0.4072070308077052, 'min_child_samples': 20, 'min_child_weight': 1.946331436962217}. Best is trial 33 with value: 0.9559453741478465.\u001b[0m\n",
      "\u001b[32m[I 2023-01-30 09:38:15,454]\u001b[0m Trial 64 finished with value: 0.9555631271693342 and parameters: {'max_depth': 2, 'n_estimators': 300, 'learning_rate': 0.0920839415076788, 'colsample_bytree': 0.5793922581702651, 'subsample': 0.5624263837625142, 'min_child_samples': 20, 'min_child_weight': 2.5188933349882405}. Best is trial 33 with value: 0.9559453741478465.\u001b[0m\n",
      "\u001b[32m[I 2023-01-30 09:38:18,935]\u001b[0m Trial 65 finished with value: 0.946508939099998 and parameters: {'max_depth': 1, 'n_estimators': 125, 'learning_rate': 0.08577376325959063, 'colsample_bytree': 0.5600382887983749, 'subsample': 0.5864358805540184, 'min_child_samples': 20, 'min_child_weight': 1.6922238180050209}. Best is trial 33 with value: 0.9559453741478465.\u001b[0m\n",
      "\u001b[32m[I 2023-01-30 09:38:25,679]\u001b[0m Trial 66 finished with value: 0.9548999628355983 and parameters: {'max_depth': 2, 'n_estimators': 178, 'learning_rate': 0.08851679269092849, 'colsample_bytree': 0.6253824664857467, 'subsample': 0.300953649032514, 'min_child_samples': 21, 'min_child_weight': 1.1373117470578005}. Best is trial 33 with value: 0.9559453741478465.\u001b[0m\n",
      "\u001b[32m[I 2023-01-30 09:38:49,904]\u001b[0m Trial 67 finished with value: 0.9488711138110464 and parameters: {'max_depth': 15, 'n_estimators': 225, 'learning_rate': 0.09989284695145088, 'colsample_bytree': 0.7719715865889263, 'subsample': 0.4560855653609984, 'min_child_samples': 21, 'min_child_weight': 2.745181005546381}. Best is trial 33 with value: 0.9559453741478465.\u001b[0m\n",
      "\u001b[32m[I 2023-01-30 09:38:59,701]\u001b[0m Trial 68 finished with value: 0.9559793925932432 and parameters: {'max_depth': 3, 'n_estimators': 198, 'learning_rate': 0.09135994489595964, 'colsample_bytree': 0.5907172908133997, 'subsample': 0.5479761302974681, 'min_child_samples': 20, 'min_child_weight': 3.787616293272679}. Best is trial 68 with value: 0.9559793925932432.\u001b[0m\n",
      "\u001b[32m[I 2023-01-30 09:39:08,267]\u001b[0m Trial 69 finished with value: 0.9559057043763647 and parameters: {'max_depth': 3, 'n_estimators': 190, 'learning_rate': 0.07876587918386703, 'colsample_bytree': 0.4427751177585125, 'subsample': 0.6393997401292996, 'min_child_samples': 21, 'min_child_weight': 3.7859064326755547}. Best is trial 68 with value: 0.9559793925932432.\u001b[0m\n",
      "\u001b[32m[I 2023-01-30 09:39:17,238]\u001b[0m Trial 70 finished with value: 0.9558894048101325 and parameters: {'max_depth': 3, 'n_estimators': 196, 'learning_rate': 0.07965107529805415, 'colsample_bytree': 0.4094361288895893, 'subsample': 0.6456332206117792, 'min_child_samples': 21, 'min_child_weight': 5.697561195036005}. Best is trial 68 with value: 0.9559793925932432.\u001b[0m\n",
      "\u001b[32m[I 2023-01-30 09:39:25,309]\u001b[0m Trial 71 finished with value: 0.9549540401925889 and parameters: {'max_depth': 3, 'n_estimators': 188, 'learning_rate': 0.07962312298516425, 'colsample_bytree': 0.40589361839697646, 'subsample': 0.6342765193327955, 'min_child_samples': 21, 'min_child_weight': 5.9716733060982}. Best is trial 68 with value: 0.9559793925932432.\u001b[0m\n",
      "\u001b[32m[I 2023-01-30 09:39:36,180]\u001b[0m Trial 72 finished with value: 0.9551618224604478 and parameters: {'max_depth': 3, 'n_estimators': 264, 'learning_rate': 0.08289816236413253, 'colsample_bytree': 0.3178621610595366, 'subsample': 0.6592364176025725, 'min_child_samples': 21, 'min_child_weight': 4.80332671405675}. Best is trial 68 with value: 0.9559793925932432.\u001b[0m\n",
      "\u001b[32m[I 2023-01-30 09:39:51,642]\u001b[0m Trial 73 finished with value: 0.9518628311666805 and parameters: {'max_depth': 13, 'n_estimators': 165, 'learning_rate': 0.07955471886298746, 'colsample_bytree': 0.4501587764701227, 'subsample': 0.6824066796735687, 'min_child_samples': 21, 'min_child_weight': 4.001071419884884}. Best is trial 68 with value: 0.9559793925932432.\u001b[0m\n",
      "\u001b[32m[I 2023-01-30 09:40:04,302]\u001b[0m Trial 74 finished with value: 0.9552231576918727 and parameters: {'max_depth': 4, 'n_estimators': 228, 'learning_rate': 0.07771725470112428, 'colsample_bytree': 0.48681324163032885, 'subsample': 0.6151016667442397, 'min_child_samples': 20, 'min_child_weight': 5.390021760433391}. Best is trial 68 with value: 0.9559793925932432.\u001b[0m\n",
      "\u001b[32m[I 2023-01-30 09:40:12,554]\u001b[0m Trial 75 finished with value: 0.9554178646564002 and parameters: {'max_depth': 5, 'n_estimators': 116, 'learning_rate': 0.07450965785120839, 'colsample_bytree': 0.4252042430885177, 'subsample': 0.5962459334738835, 'min_child_samples': 21, 'min_child_weight': 3.7066997753924347}. Best is trial 68 with value: 0.9559793925932432.\u001b[0m\n",
      "\u001b[32m[I 2023-01-30 09:40:22,818]\u001b[0m Trial 76 finished with value: 0.9556301625537984 and parameters: {'max_depth': 3, 'n_estimators': 199, 'learning_rate': 0.08564419626205394, 'colsample_bytree': 0.8906656022032988, 'subsample': 0.6435263364946305, 'min_child_samples': 20, 'min_child_weight': 3.0774563484147905}. Best is trial 68 with value: 0.9559793925932432.\u001b[0m\n",
      "\u001b[32m[I 2023-01-30 09:40:38,752]\u001b[0m Trial 77 finished with value: 0.9547642209295343 and parameters: {'max_depth': 4, 'n_estimators': 248, 'learning_rate': 0.08178168454803796, 'colsample_bytree': 0.5057301163262784, 'subsample': 0.5534928686010704, 'min_child_samples': 22, 'min_child_weight': 2.5174707131513188}. Best is trial 68 with value: 0.9559793925932432.\u001b[0m\n",
      "\u001b[32m[I 2023-01-30 09:40:49,616]\u001b[0m Trial 78 finished with value: 0.9551058550894026 and parameters: {'max_depth': 2, 'n_estimators': 319, 'learning_rate': 0.08730701445024087, 'colsample_bytree': 0.3913557907133606, 'subsample': 0.5378486597306223, 'min_child_samples': 21, 'min_child_weight': 3.479672951011244}. Best is trial 68 with value: 0.9559793925932432.\u001b[0m\n",
      "\u001b[32m[I 2023-01-30 09:41:28,886]\u001b[0m Trial 79 finished with value: 0.9515144021048362 and parameters: {'max_depth': 3, 'n_estimators': 880, 'learning_rate': 0.08463951333720292, 'colsample_bytree': 0.4421997067174521, 'subsample': 0.674374101563129, 'min_child_samples': 22, 'min_child_weight': 4.2262997038979435}. Best is trial 68 with value: 0.9559793925932432.\u001b[0m\n"
     ]
    },
    {
     "name": "stdout",
     "output_type": "stream",
     "text": [
      "score: 0.9559793925932432, params: {'max_depth': 3, 'n_estimators': 198, 'learning_rate': 0.09135994489595964, 'colsample_bytree': 0.5907172908133997, 'subsample': 0.5479761302974681, 'min_child_samples': 20, 'min_child_weight': 3.787616293272679}\n"
     ]
    }
   ],
   "source": [
    "#lgbm\n",
    "skf = StratifiedKFold(n_splits=4, shuffle=True, random_state=42)\n",
    "\n",
    "def LGBM_objective(trial):\n",
    "    max_depth = trial.suggest_int('max_depth', 1, 15)\n",
    "    n_estimators = trial.suggest_int('n_estimators', 100, 1000)\n",
    "    learning_rate = trial.suggest_float(\"learning_rate\", 4e-2, 1e-1) # default=0.1, range=[0,1]\n",
    "    colsample_bytree = trial.suggest_float(\"colsample_bytree\", 0.2, 0.9) # feature_fraction, default=1\n",
    "    subsample = trial.suggest_float(\"subsample\", 0.2, 0.9) # bagging_fraction, default=1, range=[0,1]\n",
    "    min_child_samples = trial.suggest_int(\"min_child_samples\", 20, 30) # min_data_in_leaf, default=20\n",
    "    min_child_weight = trial.suggest_float('min_child_weight', 1, 20)\n",
    "\n",
    "    model = LGBMClassifier(max_depth = max_depth, n_estimators = n_estimators, learning_rate = learning_rate,\n",
    "                           colsample_bytree = colsample_bytree, subsample = subsample, \n",
    "                           min_child_weight= min_child_weight, min_child_samples = min_child_samples, \n",
    "                           n_jobs=4,random_state=42)\n",
    "    score = [] \n",
    "    cv_scores = []\n",
    "    for train_index, test_index in skf.split(x, y):\n",
    "        x_train, x_test = x.iloc[train_index], x.iloc[test_index]\n",
    "        y_train, y_test = y.iloc[train_index], y.iloc[test_index]\n",
    "        \n",
    "        model.fit(x_train, y_train)\n",
    "        y_pred = model.predict_proba(x_test)\n",
    "        score = roc_auc_score(y_test, y_pred, multi_class='ovr', average='macro')      \n",
    "        cv_scores.append(score)\n",
    "        \n",
    "    return np.mean(cv_scores)\n",
    "\n",
    "lgbm_roc_study = optuna.create_study(direction='maximize', sampler=optuna.samplers.TPESampler(seed=42))\n",
    "lgbm_roc_study.optimize(LGBM_objective, n_trials=80)\n",
    "\n",
    "lgbm_roc_best = lgbm_roc_study.best_trial\n",
    "lgbm_roc_best_params = lgbm_roc_best.params\n",
    "print('score: {0}, params: {1}'.format(lgbm_roc_best.value, lgbm_roc_best_params))"
   ]
  },
  {
   "cell_type": "code",
   "execution_count": 11,
   "id": "64f4ad9c-f943-4af2-bf5f-8310e47a92d2",
   "metadata": {},
   "outputs": [
    {
     "name": "stderr",
     "output_type": "stream",
     "text": [
      "\u001b[32m[I 2023-01-30 04:13:15,300]\u001b[0m A new study created in memory with name: no-name-d8dc89d2-abc2-4a3f-af78-acabc3129ba0\u001b[0m\n",
      "\u001b[32m[I 2023-01-30 04:14:32,237]\u001b[0m Trial 0 finished with value: 0.9414069869929933 and parameters: {'max_depth': 6, 'max_leaf_nodes': 951, 'n_estimators': 759}. Best is trial 0 with value: 0.9414069869929933.\u001b[0m\n",
      "\u001b[32m[I 2023-01-30 04:15:10,424]\u001b[0m Trial 1 finished with value: 0.9483948503135126 and parameters: {'max_depth': 9, 'max_leaf_nodes': 157, 'n_estimators': 240}. Best is trial 1 with value: 0.9483948503135126.\u001b[0m\n",
      "\u001b[32m[I 2023-01-30 04:15:37,721]\u001b[0m Trial 2 finished with value: 0.8570268673977245 and parameters: {'max_depth': 1, 'max_leaf_nodes': 867, 'n_estimators': 641}. Best is trial 1 with value: 0.9483948503135126.\u001b[0m\n",
      "\u001b[32m[I 2023-01-30 04:17:23,138]\u001b[0m Trial 3 finished with value: 0.9336963309955336 and parameters: {'max_depth': 11, 'max_leaf_nodes': 22, 'n_estimators': 973}. Best is trial 1 with value: 0.9483948503135126.\u001b[0m\n",
      "\u001b[32m[I 2023-01-30 04:18:11,109]\u001b[0m Trial 4 finished with value: 0.9502391869923034 and parameters: {'max_depth': 13, 'max_leaf_nodes': 214, 'n_estimators': 263}. Best is trial 4 with value: 0.9502391869923034.\u001b[0m\n",
      "\u001b[32m[I 2023-01-30 04:18:48,588]\u001b[0m Trial 5 finished with value: 0.9161120335445769 and parameters: {'max_depth': 3, 'max_leaf_nodes': 305, 'n_estimators': 572}. Best is trial 4 with value: 0.9502391869923034.\u001b[0m\n",
      "\u001b[32m[I 2023-01-30 04:20:16,796]\u001b[0m Trial 6 finished with value: 0.9452413399805235 and parameters: {'max_depth': 7, 'max_leaf_nodes': 292, 'n_estimators': 651}. Best is trial 4 with value: 0.9502391869923034.\u001b[0m\n",
      "\u001b[32m[I 2023-01-30 04:20:45,052]\u001b[0m Trial 7 finished with value: 0.9156926760664166 and parameters: {'max_depth': 3, 'max_leaf_nodes': 293, 'n_estimators': 430}. Best is trial 4 with value: 0.9502391869923034.\u001b[0m\n",
      "\u001b[32m[I 2023-01-30 04:21:21,937]\u001b[0m Trial 8 finished with value: 0.9447749002735374 and parameters: {'max_depth': 7, 'max_leaf_nodes': 786, 'n_estimators': 279}. Best is trial 4 with value: 0.9502391869923034.\u001b[0m\n",
      "\u001b[32m[I 2023-01-30 04:21:43,907]\u001b[0m Trial 9 finished with value: 0.9474131879901969 and parameters: {'max_depth': 8, 'max_leaf_nodes': 593, 'n_estimators': 141}. Best is trial 4 with value: 0.9502391869923034.\u001b[0m\n",
      "\u001b[32m[I 2023-01-30 04:23:04,847]\u001b[0m Trial 10 finished with value: 0.9525757665397832 and parameters: {'max_depth': 15, 'max_leaf_nodes': 560, 'n_estimators': 379}. Best is trial 10 with value: 0.9525757665397832.\u001b[0m\n",
      "\u001b[32m[I 2023-01-30 04:24:32,245]\u001b[0m Trial 11 finished with value: 0.952561481595818 and parameters: {'max_depth': 15, 'max_leaf_nodes': 553, 'n_estimators': 402}. Best is trial 10 with value: 0.9525757665397832.\u001b[0m\n",
      "\u001b[32m[I 2023-01-30 04:25:59,058]\u001b[0m Trial 12 finished with value: 0.9525725998923819 and parameters: {'max_depth': 15, 'max_leaf_nodes': 579, 'n_estimators': 401}. Best is trial 10 with value: 0.9525757665397832.\u001b[0m\n",
      "\u001b[32m[I 2023-01-30 04:27:38,217]\u001b[0m Trial 13 finished with value: 0.9526395404307222 and parameters: {'max_depth': 15, 'max_leaf_nodes': 680, 'n_estimators': 435}. Best is trial 13 with value: 0.9526395404307222.\u001b[0m\n",
      "\u001b[32m[I 2023-01-30 04:29:25,823]\u001b[0m Trial 14 finished with value: 0.9524757033427033 and parameters: {'max_depth': 12, 'max_leaf_nodes': 705, 'n_estimators': 496}. Best is trial 13 with value: 0.9526395404307222.\u001b[0m\n",
      "\u001b[32m[I 2023-01-30 04:32:09,833]\u001b[0m Trial 15 finished with value: 0.9523012908179777 and parameters: {'max_depth': 13, 'max_leaf_nodes': 428, 'n_estimators': 791}. Best is trial 13 with value: 0.9526395404307222.\u001b[0m\n",
      "\u001b[32m[I 2023-01-30 04:33:13,334]\u001b[0m Trial 16 finished with value: 0.9511393265006438 and parameters: {'max_depth': 10, 'max_leaf_nodes': 700, 'n_estimators': 330}. Best is trial 13 with value: 0.9526395404307222.\u001b[0m\n",
      "\u001b[32m[I 2023-01-30 04:33:49,333]\u001b[0m Trial 17 finished with value: 0.9518230735437578 and parameters: {'max_depth': 15, 'max_leaf_nodes': 424, 'n_estimators': 169}. Best is trial 13 with value: 0.9526395404307222.\u001b[0m\n",
      "\u001b[32m[I 2023-01-30 04:35:44,158]\u001b[0m Trial 18 finished with value: 0.952550648362873 and parameters: {'max_depth': 13, 'max_leaf_nodes': 735, 'n_estimators': 511}. Best is trial 13 with value: 0.9526395404307222.\u001b[0m\n",
      "\u001b[32m[I 2023-01-30 04:36:52,773]\u001b[0m Trial 19 finished with value: 0.9517379465896493 and parameters: {'max_depth': 11, 'max_leaf_nodes': 444, 'n_estimators': 355}. Best is trial 13 with value: 0.9526395404307222.\u001b[0m\n",
      "\u001b[32m[I 2023-01-30 04:38:57,517]\u001b[0m Trial 20 finished with value: 0.9526924142277307 and parameters: {'max_depth': 14, 'max_leaf_nodes': 641, 'n_estimators': 570}. Best is trial 20 with value: 0.9526924142277307.\u001b[0m\n",
      "\u001b[32m[I 2023-01-30 04:41:19,319]\u001b[0m Trial 21 finished with value: 0.9527009613011 and parameters: {'max_depth': 14, 'max_leaf_nodes': 620, 'n_estimators': 633}. Best is trial 21 with value: 0.9527009613011.\u001b[0m\n",
      "\u001b[32m[I 2023-01-30 04:44:10,039]\u001b[0m Trial 22 finished with value: 0.9527283540052843 and parameters: {'max_depth': 14, 'max_leaf_nodes': 804, 'n_estimators': 735}. Best is trial 22 with value: 0.9527283540052843.\u001b[0m\n",
      "\u001b[32m[I 2023-01-30 04:47:08,981]\u001b[0m Trial 23 finished with value: 0.9524305583548213 and parameters: {'max_depth': 13, 'max_leaf_nodes': 999, 'n_estimators': 777}. Best is trial 22 with value: 0.9527283540052843.\u001b[0m\n",
      "\u001b[32m[I 2023-01-30 04:50:07,789]\u001b[0m Trial 24 finished with value: 0.9520371030714985 and parameters: {'max_depth': 11, 'max_leaf_nodes': 813, 'n_estimators': 868}. Best is trial 22 with value: 0.9527283540052843.\u001b[0m\n",
      "\u001b[32m[I 2023-01-30 04:52:36,506]\u001b[0m Trial 25 finished with value: 0.9526528669293164 and parameters: {'max_depth': 14, 'max_leaf_nodes': 857, 'n_estimators': 648}. Best is trial 22 with value: 0.9527283540052843.\u001b[0m\n",
      "\u001b[32m[I 2023-01-30 04:55:04,292]\u001b[0m Trial 26 finished with value: 0.9525772960831158 and parameters: {'max_depth': 12, 'max_leaf_nodes': 653, 'n_estimators': 695}. Best is trial 22 with value: 0.9527283540052843.\u001b[0m\n",
      "\u001b[32m[I 2023-01-30 04:57:14,956]\u001b[0m Trial 27 finished with value: 0.9526046562913618 and parameters: {'max_depth': 14, 'max_leaf_nodes': 914, 'n_estimators': 570}. Best is trial 22 with value: 0.9527283540052843.\u001b[0m\n",
      "\u001b[32m[I 2023-01-30 04:59:41,186]\u001b[0m Trial 28 finished with value: 0.9500816723474566 and parameters: {'max_depth': 9, 'max_leaf_nodes': 504, 'n_estimators': 856}. Best is trial 22 with value: 0.9527283540052843.\u001b[0m\n",
      "\u001b[32m[I 2023-01-30 05:02:42,460]\u001b[0m Trial 29 finished with value: 0.9525725564656622 and parameters: {'max_depth': 12, 'max_leaf_nodes': 764, 'n_estimators': 843}. Best is trial 22 with value: 0.9527283540052843.\u001b[0m\n",
      "\u001b[32m[I 2023-01-30 05:03:49,725]\u001b[0m Trial 30 finished with value: 0.9360921435143303 and parameters: {'max_depth': 5, 'max_leaf_nodes': 630, 'n_estimators': 716}. Best is trial 22 with value: 0.9527283540052843.\u001b[0m\n",
      "\u001b[32m[I 2023-01-30 05:06:16,161]\u001b[0m Trial 31 finished with value: 0.9526331953671547 and parameters: {'max_depth': 14, 'max_leaf_nodes': 855, 'n_estimators': 625}. Best is trial 22 with value: 0.9527283540052843.\u001b[0m\n",
      "\u001b[32m[I 2023-01-30 05:09:03,468]\u001b[0m Trial 32 finished with value: 0.9526898788007411 and parameters: {'max_depth': 14, 'max_leaf_nodes': 883, 'n_estimators': 719}. Best is trial 22 with value: 0.9527283540052843.\u001b[0m\n",
      "\u001b[32m[I 2023-01-30 05:11:54,575]\u001b[0m Trial 33 finished with value: 0.9526314888597527 and parameters: {'max_depth': 14, 'max_leaf_nodes': 944, 'n_estimators': 723}. Best is trial 22 with value: 0.9527283540052843.\u001b[0m\n",
      "\u001b[33m[W 2023-01-30 05:12:11,436]\u001b[0m Trial 34 failed because of the following error: KeyboardInterrupt()\u001b[0m\n",
      "Traceback (most recent call last):\n",
      "  File \"C:\\Users\\hyo\\anaconda3\\lib\\site-packages\\optuna\\study\\_optimize.py\", line 196, in _run_trial\n",
      "    value_or_values = func(trial)\n",
      "  File \"C:\\Users\\hyo\\AppData\\Local\\Temp/ipykernel_30956/2756971824.py\", line 16, in RF_objective\n",
      "    model.fit(x_train, y_train)\n",
      "  File \"C:\\Users\\hyo\\anaconda3\\lib\\site-packages\\sklearn\\ensemble\\_forest.py\", line 474, in fit\n",
      "    trees = Parallel(\n",
      "  File \"C:\\Users\\hyo\\anaconda3\\lib\\site-packages\\joblib\\parallel.py\", line 1098, in __call__\n",
      "    self.retrieve()\n",
      "  File \"C:\\Users\\hyo\\anaconda3\\lib\\site-packages\\joblib\\parallel.py\", line 975, in retrieve\n",
      "    self._output.extend(job.get(timeout=self.timeout))\n",
      "  File \"C:\\Users\\hyo\\anaconda3\\lib\\multiprocessing\\pool.py\", line 765, in get\n",
      "    self.wait(timeout)\n",
      "  File \"C:\\Users\\hyo\\anaconda3\\lib\\multiprocessing\\pool.py\", line 762, in wait\n",
      "    self._event.wait(timeout)\n",
      "  File \"C:\\Users\\hyo\\anaconda3\\lib\\threading.py\", line 574, in wait\n",
      "    signaled = self._cond.wait(timeout)\n",
      "  File \"C:\\Users\\hyo\\anaconda3\\lib\\threading.py\", line 312, in wait\n",
      "    waiter.acquire()\n",
      "KeyboardInterrupt\n"
     ]
    },
    {
     "ename": "KeyboardInterrupt",
     "evalue": "",
     "output_type": "error",
     "traceback": [
      "\u001b[1;31m---------------------------------------------------------------------------\u001b[0m",
      "\u001b[1;31mKeyboardInterrupt\u001b[0m                         Traceback (most recent call last)",
      "\u001b[1;32m~\\AppData\\Local\\Temp/ipykernel_30956/2756971824.py\u001b[0m in \u001b[0;36m<module>\u001b[1;34m\u001b[0m\n\u001b[0;32m     22\u001b[0m \u001b[1;33m\u001b[0m\u001b[0m\n\u001b[0;32m     23\u001b[0m \u001b[0mrf_roc_study\u001b[0m \u001b[1;33m=\u001b[0m \u001b[0moptuna\u001b[0m\u001b[1;33m.\u001b[0m\u001b[0mcreate_study\u001b[0m\u001b[1;33m(\u001b[0m\u001b[0mdirection\u001b[0m\u001b[1;33m=\u001b[0m\u001b[1;34m'maximize'\u001b[0m\u001b[1;33m,\u001b[0m \u001b[0msampler\u001b[0m\u001b[1;33m=\u001b[0m\u001b[0moptuna\u001b[0m\u001b[1;33m.\u001b[0m\u001b[0msamplers\u001b[0m\u001b[1;33m.\u001b[0m\u001b[0mTPESampler\u001b[0m\u001b[1;33m(\u001b[0m\u001b[0mseed\u001b[0m\u001b[1;33m=\u001b[0m\u001b[1;36m42\u001b[0m\u001b[1;33m)\u001b[0m\u001b[1;33m)\u001b[0m\u001b[1;33m\u001b[0m\u001b[1;33m\u001b[0m\u001b[0m\n\u001b[1;32m---> 24\u001b[1;33m \u001b[0mrf_roc_study\u001b[0m\u001b[1;33m.\u001b[0m\u001b[0moptimize\u001b[0m\u001b[1;33m(\u001b[0m\u001b[0mRF_objective\u001b[0m\u001b[1;33m,\u001b[0m \u001b[0mn_trials\u001b[0m\u001b[1;33m=\u001b[0m\u001b[1;36m100\u001b[0m\u001b[1;33m)\u001b[0m\u001b[1;33m\u001b[0m\u001b[1;33m\u001b[0m\u001b[0m\n\u001b[0m\u001b[0;32m     25\u001b[0m \u001b[1;33m\u001b[0m\u001b[0m\n\u001b[0;32m     26\u001b[0m \u001b[0mrf_roc_best\u001b[0m \u001b[1;33m=\u001b[0m \u001b[0mrf_roc_study\u001b[0m\u001b[1;33m.\u001b[0m\u001b[0mbest_trial\u001b[0m\u001b[1;33m\u001b[0m\u001b[1;33m\u001b[0m\u001b[0m\n",
      "\u001b[1;32m~\\anaconda3\\lib\\site-packages\\optuna\\study\\study.py\u001b[0m in \u001b[0;36moptimize\u001b[1;34m(self, func, n_trials, timeout, n_jobs, catch, callbacks, gc_after_trial, show_progress_bar)\u001b[0m\n\u001b[0;32m    417\u001b[0m         \"\"\"\n\u001b[0;32m    418\u001b[0m \u001b[1;33m\u001b[0m\u001b[0m\n\u001b[1;32m--> 419\u001b[1;33m         _optimize(\n\u001b[0m\u001b[0;32m    420\u001b[0m             \u001b[0mstudy\u001b[0m\u001b[1;33m=\u001b[0m\u001b[0mself\u001b[0m\u001b[1;33m,\u001b[0m\u001b[1;33m\u001b[0m\u001b[1;33m\u001b[0m\u001b[0m\n\u001b[0;32m    421\u001b[0m             \u001b[0mfunc\u001b[0m\u001b[1;33m=\u001b[0m\u001b[0mfunc\u001b[0m\u001b[1;33m,\u001b[0m\u001b[1;33m\u001b[0m\u001b[1;33m\u001b[0m\u001b[0m\n",
      "\u001b[1;32m~\\anaconda3\\lib\\site-packages\\optuna\\study\\_optimize.py\u001b[0m in \u001b[0;36m_optimize\u001b[1;34m(study, func, n_trials, timeout, n_jobs, catch, callbacks, gc_after_trial, show_progress_bar)\u001b[0m\n\u001b[0;32m     64\u001b[0m     \u001b[1;32mtry\u001b[0m\u001b[1;33m:\u001b[0m\u001b[1;33m\u001b[0m\u001b[1;33m\u001b[0m\u001b[0m\n\u001b[0;32m     65\u001b[0m         \u001b[1;32mif\u001b[0m \u001b[0mn_jobs\u001b[0m \u001b[1;33m==\u001b[0m \u001b[1;36m1\u001b[0m\u001b[1;33m:\u001b[0m\u001b[1;33m\u001b[0m\u001b[1;33m\u001b[0m\u001b[0m\n\u001b[1;32m---> 66\u001b[1;33m             _optimize_sequential(\n\u001b[0m\u001b[0;32m     67\u001b[0m                 \u001b[0mstudy\u001b[0m\u001b[1;33m,\u001b[0m\u001b[1;33m\u001b[0m\u001b[1;33m\u001b[0m\u001b[0m\n\u001b[0;32m     68\u001b[0m                 \u001b[0mfunc\u001b[0m\u001b[1;33m,\u001b[0m\u001b[1;33m\u001b[0m\u001b[1;33m\u001b[0m\u001b[0m\n",
      "\u001b[1;32m~\\anaconda3\\lib\\site-packages\\optuna\\study\\_optimize.py\u001b[0m in \u001b[0;36m_optimize_sequential\u001b[1;34m(study, func, n_trials, timeout, catch, callbacks, gc_after_trial, reseed_sampler_rng, time_start, progress_bar)\u001b[0m\n\u001b[0;32m    158\u001b[0m \u001b[1;33m\u001b[0m\u001b[0m\n\u001b[0;32m    159\u001b[0m         \u001b[1;32mtry\u001b[0m\u001b[1;33m:\u001b[0m\u001b[1;33m\u001b[0m\u001b[1;33m\u001b[0m\u001b[0m\n\u001b[1;32m--> 160\u001b[1;33m             \u001b[0mfrozen_trial\u001b[0m \u001b[1;33m=\u001b[0m \u001b[0m_run_trial\u001b[0m\u001b[1;33m(\u001b[0m\u001b[0mstudy\u001b[0m\u001b[1;33m,\u001b[0m \u001b[0mfunc\u001b[0m\u001b[1;33m,\u001b[0m \u001b[0mcatch\u001b[0m\u001b[1;33m)\u001b[0m\u001b[1;33m\u001b[0m\u001b[1;33m\u001b[0m\u001b[0m\n\u001b[0m\u001b[0;32m    161\u001b[0m         \u001b[1;32mfinally\u001b[0m\u001b[1;33m:\u001b[0m\u001b[1;33m\u001b[0m\u001b[1;33m\u001b[0m\u001b[0m\n\u001b[0;32m    162\u001b[0m             \u001b[1;31m# The following line mitigates memory problems that can be occurred in some\u001b[0m\u001b[1;33m\u001b[0m\u001b[1;33m\u001b[0m\u001b[0m\n",
      "\u001b[1;32m~\\anaconda3\\lib\\site-packages\\optuna\\study\\_optimize.py\u001b[0m in \u001b[0;36m_run_trial\u001b[1;34m(study, func, catch)\u001b[0m\n\u001b[0;32m    232\u001b[0m         \u001b[1;32mand\u001b[0m \u001b[1;32mnot\u001b[0m \u001b[0misinstance\u001b[0m\u001b[1;33m(\u001b[0m\u001b[0mfunc_err\u001b[0m\u001b[1;33m,\u001b[0m \u001b[0mcatch\u001b[0m\u001b[1;33m)\u001b[0m\u001b[1;33m\u001b[0m\u001b[1;33m\u001b[0m\u001b[0m\n\u001b[0;32m    233\u001b[0m     ):\n\u001b[1;32m--> 234\u001b[1;33m         \u001b[1;32mraise\u001b[0m \u001b[0mfunc_err\u001b[0m\u001b[1;33m\u001b[0m\u001b[1;33m\u001b[0m\u001b[0m\n\u001b[0m\u001b[0;32m    235\u001b[0m     \u001b[1;32mreturn\u001b[0m \u001b[0mfrozen_trial\u001b[0m\u001b[1;33m\u001b[0m\u001b[1;33m\u001b[0m\u001b[0m\n\u001b[0;32m    236\u001b[0m \u001b[1;33m\u001b[0m\u001b[0m\n",
      "\u001b[1;32m~\\anaconda3\\lib\\site-packages\\optuna\\study\\_optimize.py\u001b[0m in \u001b[0;36m_run_trial\u001b[1;34m(study, func, catch)\u001b[0m\n\u001b[0;32m    194\u001b[0m     \u001b[1;32mwith\u001b[0m \u001b[0mget_heartbeat_thread\u001b[0m\u001b[1;33m(\u001b[0m\u001b[0mtrial\u001b[0m\u001b[1;33m.\u001b[0m\u001b[0m_trial_id\u001b[0m\u001b[1;33m,\u001b[0m \u001b[0mstudy\u001b[0m\u001b[1;33m.\u001b[0m\u001b[0m_storage\u001b[0m\u001b[1;33m)\u001b[0m\u001b[1;33m:\u001b[0m\u001b[1;33m\u001b[0m\u001b[1;33m\u001b[0m\u001b[0m\n\u001b[0;32m    195\u001b[0m         \u001b[1;32mtry\u001b[0m\u001b[1;33m:\u001b[0m\u001b[1;33m\u001b[0m\u001b[1;33m\u001b[0m\u001b[0m\n\u001b[1;32m--> 196\u001b[1;33m             \u001b[0mvalue_or_values\u001b[0m \u001b[1;33m=\u001b[0m \u001b[0mfunc\u001b[0m\u001b[1;33m(\u001b[0m\u001b[0mtrial\u001b[0m\u001b[1;33m)\u001b[0m\u001b[1;33m\u001b[0m\u001b[1;33m\u001b[0m\u001b[0m\n\u001b[0m\u001b[0;32m    197\u001b[0m         \u001b[1;32mexcept\u001b[0m \u001b[0mexceptions\u001b[0m\u001b[1;33m.\u001b[0m\u001b[0mTrialPruned\u001b[0m \u001b[1;32mas\u001b[0m \u001b[0me\u001b[0m\u001b[1;33m:\u001b[0m\u001b[1;33m\u001b[0m\u001b[1;33m\u001b[0m\u001b[0m\n\u001b[0;32m    198\u001b[0m             \u001b[1;31m# TODO(mamu): Handle multi-objective cases.\u001b[0m\u001b[1;33m\u001b[0m\u001b[1;33m\u001b[0m\u001b[0m\n",
      "\u001b[1;32m~\\AppData\\Local\\Temp/ipykernel_30956/2756971824.py\u001b[0m in \u001b[0;36mRF_objective\u001b[1;34m(trial)\u001b[0m\n\u001b[0;32m     14\u001b[0m         \u001b[0my_train\u001b[0m\u001b[1;33m,\u001b[0m \u001b[0my_test\u001b[0m \u001b[1;33m=\u001b[0m \u001b[0my\u001b[0m\u001b[1;33m.\u001b[0m\u001b[0miloc\u001b[0m\u001b[1;33m[\u001b[0m\u001b[0mtrain_index\u001b[0m\u001b[1;33m]\u001b[0m\u001b[1;33m,\u001b[0m \u001b[0my\u001b[0m\u001b[1;33m.\u001b[0m\u001b[0miloc\u001b[0m\u001b[1;33m[\u001b[0m\u001b[0mtest_index\u001b[0m\u001b[1;33m]\u001b[0m\u001b[1;33m\u001b[0m\u001b[1;33m\u001b[0m\u001b[0m\n\u001b[0;32m     15\u001b[0m \u001b[1;33m\u001b[0m\u001b[0m\n\u001b[1;32m---> 16\u001b[1;33m         \u001b[0mmodel\u001b[0m\u001b[1;33m.\u001b[0m\u001b[0mfit\u001b[0m\u001b[1;33m(\u001b[0m\u001b[0mx_train\u001b[0m\u001b[1;33m,\u001b[0m \u001b[0my_train\u001b[0m\u001b[1;33m)\u001b[0m\u001b[1;33m\u001b[0m\u001b[1;33m\u001b[0m\u001b[0m\n\u001b[0m\u001b[0;32m     17\u001b[0m         \u001b[0my_pred\u001b[0m \u001b[1;33m=\u001b[0m \u001b[0mmodel\u001b[0m\u001b[1;33m.\u001b[0m\u001b[0mpredict_proba\u001b[0m\u001b[1;33m(\u001b[0m\u001b[0mx_test\u001b[0m\u001b[1;33m)\u001b[0m\u001b[1;33m\u001b[0m\u001b[1;33m\u001b[0m\u001b[0m\n\u001b[0;32m     18\u001b[0m         \u001b[0mscore\u001b[0m \u001b[1;33m=\u001b[0m \u001b[0mroc_auc_score\u001b[0m\u001b[1;33m(\u001b[0m\u001b[0my_test\u001b[0m\u001b[1;33m,\u001b[0m \u001b[0my_pred\u001b[0m\u001b[1;33m,\u001b[0m \u001b[0mmulti_class\u001b[0m\u001b[1;33m=\u001b[0m\u001b[1;34m'ovr'\u001b[0m\u001b[1;33m,\u001b[0m \u001b[0maverage\u001b[0m\u001b[1;33m=\u001b[0m\u001b[1;34m'macro'\u001b[0m\u001b[1;33m)\u001b[0m\u001b[1;33m\u001b[0m\u001b[1;33m\u001b[0m\u001b[0m\n",
      "\u001b[1;32m~\\anaconda3\\lib\\site-packages\\sklearn\\ensemble\\_forest.py\u001b[0m in \u001b[0;36mfit\u001b[1;34m(self, X, y, sample_weight)\u001b[0m\n\u001b[0;32m    472\u001b[0m             \u001b[1;31m# parallel_backend contexts set at a higher level,\u001b[0m\u001b[1;33m\u001b[0m\u001b[1;33m\u001b[0m\u001b[0m\n\u001b[0;32m    473\u001b[0m             \u001b[1;31m# since correctness does not rely on using threads.\u001b[0m\u001b[1;33m\u001b[0m\u001b[1;33m\u001b[0m\u001b[0m\n\u001b[1;32m--> 474\u001b[1;33m             trees = Parallel(\n\u001b[0m\u001b[0;32m    475\u001b[0m                 \u001b[0mn_jobs\u001b[0m\u001b[1;33m=\u001b[0m\u001b[0mself\u001b[0m\u001b[1;33m.\u001b[0m\u001b[0mn_jobs\u001b[0m\u001b[1;33m,\u001b[0m\u001b[1;33m\u001b[0m\u001b[1;33m\u001b[0m\u001b[0m\n\u001b[0;32m    476\u001b[0m                 \u001b[0mverbose\u001b[0m\u001b[1;33m=\u001b[0m\u001b[0mself\u001b[0m\u001b[1;33m.\u001b[0m\u001b[0mverbose\u001b[0m\u001b[1;33m,\u001b[0m\u001b[1;33m\u001b[0m\u001b[1;33m\u001b[0m\u001b[0m\n",
      "\u001b[1;32m~\\anaconda3\\lib\\site-packages\\joblib\\parallel.py\u001b[0m in \u001b[0;36m__call__\u001b[1;34m(self, iterable)\u001b[0m\n\u001b[0;32m   1096\u001b[0m \u001b[1;33m\u001b[0m\u001b[0m\n\u001b[0;32m   1097\u001b[0m             \u001b[1;32mwith\u001b[0m \u001b[0mself\u001b[0m\u001b[1;33m.\u001b[0m\u001b[0m_backend\u001b[0m\u001b[1;33m.\u001b[0m\u001b[0mretrieval_context\u001b[0m\u001b[1;33m(\u001b[0m\u001b[1;33m)\u001b[0m\u001b[1;33m:\u001b[0m\u001b[1;33m\u001b[0m\u001b[1;33m\u001b[0m\u001b[0m\n\u001b[1;32m-> 1098\u001b[1;33m                 \u001b[0mself\u001b[0m\u001b[1;33m.\u001b[0m\u001b[0mretrieve\u001b[0m\u001b[1;33m(\u001b[0m\u001b[1;33m)\u001b[0m\u001b[1;33m\u001b[0m\u001b[1;33m\u001b[0m\u001b[0m\n\u001b[0m\u001b[0;32m   1099\u001b[0m             \u001b[1;31m# Make sure that we get a last message telling us we are done\u001b[0m\u001b[1;33m\u001b[0m\u001b[1;33m\u001b[0m\u001b[0m\n\u001b[0;32m   1100\u001b[0m             \u001b[0melapsed_time\u001b[0m \u001b[1;33m=\u001b[0m \u001b[0mtime\u001b[0m\u001b[1;33m.\u001b[0m\u001b[0mtime\u001b[0m\u001b[1;33m(\u001b[0m\u001b[1;33m)\u001b[0m \u001b[1;33m-\u001b[0m \u001b[0mself\u001b[0m\u001b[1;33m.\u001b[0m\u001b[0m_start_time\u001b[0m\u001b[1;33m\u001b[0m\u001b[1;33m\u001b[0m\u001b[0m\n",
      "\u001b[1;32m~\\anaconda3\\lib\\site-packages\\joblib\\parallel.py\u001b[0m in \u001b[0;36mretrieve\u001b[1;34m(self)\u001b[0m\n\u001b[0;32m    973\u001b[0m             \u001b[1;32mtry\u001b[0m\u001b[1;33m:\u001b[0m\u001b[1;33m\u001b[0m\u001b[1;33m\u001b[0m\u001b[0m\n\u001b[0;32m    974\u001b[0m                 \u001b[1;32mif\u001b[0m \u001b[0mgetattr\u001b[0m\u001b[1;33m(\u001b[0m\u001b[0mself\u001b[0m\u001b[1;33m.\u001b[0m\u001b[0m_backend\u001b[0m\u001b[1;33m,\u001b[0m \u001b[1;34m'supports_timeout'\u001b[0m\u001b[1;33m,\u001b[0m \u001b[1;32mFalse\u001b[0m\u001b[1;33m)\u001b[0m\u001b[1;33m:\u001b[0m\u001b[1;33m\u001b[0m\u001b[1;33m\u001b[0m\u001b[0m\n\u001b[1;32m--> 975\u001b[1;33m                     \u001b[0mself\u001b[0m\u001b[1;33m.\u001b[0m\u001b[0m_output\u001b[0m\u001b[1;33m.\u001b[0m\u001b[0mextend\u001b[0m\u001b[1;33m(\u001b[0m\u001b[0mjob\u001b[0m\u001b[1;33m.\u001b[0m\u001b[0mget\u001b[0m\u001b[1;33m(\u001b[0m\u001b[0mtimeout\u001b[0m\u001b[1;33m=\u001b[0m\u001b[0mself\u001b[0m\u001b[1;33m.\u001b[0m\u001b[0mtimeout\u001b[0m\u001b[1;33m)\u001b[0m\u001b[1;33m)\u001b[0m\u001b[1;33m\u001b[0m\u001b[1;33m\u001b[0m\u001b[0m\n\u001b[0m\u001b[0;32m    976\u001b[0m                 \u001b[1;32melse\u001b[0m\u001b[1;33m:\u001b[0m\u001b[1;33m\u001b[0m\u001b[1;33m\u001b[0m\u001b[0m\n\u001b[0;32m    977\u001b[0m                     \u001b[0mself\u001b[0m\u001b[1;33m.\u001b[0m\u001b[0m_output\u001b[0m\u001b[1;33m.\u001b[0m\u001b[0mextend\u001b[0m\u001b[1;33m(\u001b[0m\u001b[0mjob\u001b[0m\u001b[1;33m.\u001b[0m\u001b[0mget\u001b[0m\u001b[1;33m(\u001b[0m\u001b[1;33m)\u001b[0m\u001b[1;33m)\u001b[0m\u001b[1;33m\u001b[0m\u001b[1;33m\u001b[0m\u001b[0m\n",
      "\u001b[1;32m~\\anaconda3\\lib\\multiprocessing\\pool.py\u001b[0m in \u001b[0;36mget\u001b[1;34m(self, timeout)\u001b[0m\n\u001b[0;32m    763\u001b[0m \u001b[1;33m\u001b[0m\u001b[0m\n\u001b[0;32m    764\u001b[0m     \u001b[1;32mdef\u001b[0m \u001b[0mget\u001b[0m\u001b[1;33m(\u001b[0m\u001b[0mself\u001b[0m\u001b[1;33m,\u001b[0m \u001b[0mtimeout\u001b[0m\u001b[1;33m=\u001b[0m\u001b[1;32mNone\u001b[0m\u001b[1;33m)\u001b[0m\u001b[1;33m:\u001b[0m\u001b[1;33m\u001b[0m\u001b[1;33m\u001b[0m\u001b[0m\n\u001b[1;32m--> 765\u001b[1;33m         \u001b[0mself\u001b[0m\u001b[1;33m.\u001b[0m\u001b[0mwait\u001b[0m\u001b[1;33m(\u001b[0m\u001b[0mtimeout\u001b[0m\u001b[1;33m)\u001b[0m\u001b[1;33m\u001b[0m\u001b[1;33m\u001b[0m\u001b[0m\n\u001b[0m\u001b[0;32m    766\u001b[0m         \u001b[1;32mif\u001b[0m \u001b[1;32mnot\u001b[0m \u001b[0mself\u001b[0m\u001b[1;33m.\u001b[0m\u001b[0mready\u001b[0m\u001b[1;33m(\u001b[0m\u001b[1;33m)\u001b[0m\u001b[1;33m:\u001b[0m\u001b[1;33m\u001b[0m\u001b[1;33m\u001b[0m\u001b[0m\n\u001b[0;32m    767\u001b[0m             \u001b[1;32mraise\u001b[0m \u001b[0mTimeoutError\u001b[0m\u001b[1;33m\u001b[0m\u001b[1;33m\u001b[0m\u001b[0m\n",
      "\u001b[1;32m~\\anaconda3\\lib\\multiprocessing\\pool.py\u001b[0m in \u001b[0;36mwait\u001b[1;34m(self, timeout)\u001b[0m\n\u001b[0;32m    760\u001b[0m \u001b[1;33m\u001b[0m\u001b[0m\n\u001b[0;32m    761\u001b[0m     \u001b[1;32mdef\u001b[0m \u001b[0mwait\u001b[0m\u001b[1;33m(\u001b[0m\u001b[0mself\u001b[0m\u001b[1;33m,\u001b[0m \u001b[0mtimeout\u001b[0m\u001b[1;33m=\u001b[0m\u001b[1;32mNone\u001b[0m\u001b[1;33m)\u001b[0m\u001b[1;33m:\u001b[0m\u001b[1;33m\u001b[0m\u001b[1;33m\u001b[0m\u001b[0m\n\u001b[1;32m--> 762\u001b[1;33m         \u001b[0mself\u001b[0m\u001b[1;33m.\u001b[0m\u001b[0m_event\u001b[0m\u001b[1;33m.\u001b[0m\u001b[0mwait\u001b[0m\u001b[1;33m(\u001b[0m\u001b[0mtimeout\u001b[0m\u001b[1;33m)\u001b[0m\u001b[1;33m\u001b[0m\u001b[1;33m\u001b[0m\u001b[0m\n\u001b[0m\u001b[0;32m    763\u001b[0m \u001b[1;33m\u001b[0m\u001b[0m\n\u001b[0;32m    764\u001b[0m     \u001b[1;32mdef\u001b[0m \u001b[0mget\u001b[0m\u001b[1;33m(\u001b[0m\u001b[0mself\u001b[0m\u001b[1;33m,\u001b[0m \u001b[0mtimeout\u001b[0m\u001b[1;33m=\u001b[0m\u001b[1;32mNone\u001b[0m\u001b[1;33m)\u001b[0m\u001b[1;33m:\u001b[0m\u001b[1;33m\u001b[0m\u001b[1;33m\u001b[0m\u001b[0m\n",
      "\u001b[1;32m~\\anaconda3\\lib\\threading.py\u001b[0m in \u001b[0;36mwait\u001b[1;34m(self, timeout)\u001b[0m\n\u001b[0;32m    572\u001b[0m             \u001b[0msignaled\u001b[0m \u001b[1;33m=\u001b[0m \u001b[0mself\u001b[0m\u001b[1;33m.\u001b[0m\u001b[0m_flag\u001b[0m\u001b[1;33m\u001b[0m\u001b[1;33m\u001b[0m\u001b[0m\n\u001b[0;32m    573\u001b[0m             \u001b[1;32mif\u001b[0m \u001b[1;32mnot\u001b[0m \u001b[0msignaled\u001b[0m\u001b[1;33m:\u001b[0m\u001b[1;33m\u001b[0m\u001b[1;33m\u001b[0m\u001b[0m\n\u001b[1;32m--> 574\u001b[1;33m                 \u001b[0msignaled\u001b[0m \u001b[1;33m=\u001b[0m \u001b[0mself\u001b[0m\u001b[1;33m.\u001b[0m\u001b[0m_cond\u001b[0m\u001b[1;33m.\u001b[0m\u001b[0mwait\u001b[0m\u001b[1;33m(\u001b[0m\u001b[0mtimeout\u001b[0m\u001b[1;33m)\u001b[0m\u001b[1;33m\u001b[0m\u001b[1;33m\u001b[0m\u001b[0m\n\u001b[0m\u001b[0;32m    575\u001b[0m             \u001b[1;32mreturn\u001b[0m \u001b[0msignaled\u001b[0m\u001b[1;33m\u001b[0m\u001b[1;33m\u001b[0m\u001b[0m\n\u001b[0;32m    576\u001b[0m \u001b[1;33m\u001b[0m\u001b[0m\n",
      "\u001b[1;32m~\\anaconda3\\lib\\threading.py\u001b[0m in \u001b[0;36mwait\u001b[1;34m(self, timeout)\u001b[0m\n\u001b[0;32m    310\u001b[0m         \u001b[1;32mtry\u001b[0m\u001b[1;33m:\u001b[0m    \u001b[1;31m# restore state no matter what (e.g., KeyboardInterrupt)\u001b[0m\u001b[1;33m\u001b[0m\u001b[1;33m\u001b[0m\u001b[0m\n\u001b[0;32m    311\u001b[0m             \u001b[1;32mif\u001b[0m \u001b[0mtimeout\u001b[0m \u001b[1;32mis\u001b[0m \u001b[1;32mNone\u001b[0m\u001b[1;33m:\u001b[0m\u001b[1;33m\u001b[0m\u001b[1;33m\u001b[0m\u001b[0m\n\u001b[1;32m--> 312\u001b[1;33m                 \u001b[0mwaiter\u001b[0m\u001b[1;33m.\u001b[0m\u001b[0macquire\u001b[0m\u001b[1;33m(\u001b[0m\u001b[1;33m)\u001b[0m\u001b[1;33m\u001b[0m\u001b[1;33m\u001b[0m\u001b[0m\n\u001b[0m\u001b[0;32m    313\u001b[0m                 \u001b[0mgotit\u001b[0m \u001b[1;33m=\u001b[0m \u001b[1;32mTrue\u001b[0m\u001b[1;33m\u001b[0m\u001b[1;33m\u001b[0m\u001b[0m\n\u001b[0;32m    314\u001b[0m             \u001b[1;32melse\u001b[0m\u001b[1;33m:\u001b[0m\u001b[1;33m\u001b[0m\u001b[1;33m\u001b[0m\u001b[0m\n",
      "\u001b[1;31mKeyboardInterrupt\u001b[0m: "
     ]
    }
   ],
   "source": [
    "#rf\n",
    "skf = StratifiedKFold(n_splits=4, shuffle=True, random_state=42)\n",
    "\n",
    "def RF_objective(trial):\n",
    "    max_depth = trial.suggest_int('max_depth', 1, 15)\n",
    "    max_leaf_nodes = trial.suggest_int('max_leaf_nodes', 2, 1000)\n",
    "    n_estimators = trial.suggest_int('n_estimators', 100, 1000)\n",
    "    model = RandomForestClassifier(max_depth = max_depth, max_leaf_nodes = max_leaf_nodes,\n",
    "                                   n_estimators = n_estimators, n_jobs=4, random_state=42)\n",
    "    score = [] \n",
    "    cv_scores = []\n",
    "    for train_index, test_index in skf.split(x, y):\n",
    "        x_train, x_test = x.iloc[train_index], x.iloc[test_index]\n",
    "        y_train, y_test = y.iloc[train_index], y.iloc[test_index]\n",
    "        \n",
    "        model.fit(x_train, y_train)\n",
    "        y_pred = model.predict_proba(x_test)\n",
    "        score = roc_auc_score(y_test, y_pred, multi_class='ovr', average='macro')\n",
    "        cv_scores.append(score)\n",
    "        \n",
    "    return np.mean(cv_scores)\n",
    "\n",
    "rf_roc_study = optuna.create_study(direction='maximize', sampler=optuna.samplers.TPESampler(seed=42))\n",
    "rf_roc_study.optimize(RF_objective, n_trials=100)\n",
    "\n",
    "rf_roc_best = rf_roc_study.best_trial\n",
    "rf_roc_best_params = rf_roc_best.params\n",
    "print('score: {0}, params: {1}'.format(rf_roc_best.value, rf_roc_best_params))"
   ]
  },
  {
   "cell_type": "code",
   "execution_count": 14,
   "id": "3038dfbb-39fa-48a2-a43f-0d3fa01d2645",
   "metadata": {},
   "outputs": [
    {
     "name": "stderr",
     "output_type": "stream",
     "text": [
      "\u001b[32m[I 2023-01-30 06:45:13,424]\u001b[0m A new study created in memory with name: no-name-e15c060b-f729-4114-b9e2-aa39c9bc3ced\u001b[0m\n",
      "\u001b[32m[I 2023-01-30 07:02:04,474]\u001b[0m Trial 0 finished with value: 0.9460143260723387 and parameters: {'max_depth': 6, 'n_estimators': 956, 'learning_rate': 0.08391963650868431, 'colsample_bytree': 0.6190609389379256, 'subsample': 0.3092130483097056, 'min_child_weight': 3.96389588638785}. Best is trial 0 with value: 0.9460143260723387.\u001b[0m\n",
      "\u001b[32m[I 2023-01-30 07:07:24,781]\u001b[0m Trial 1 finished with value: 0.9505392217332979 and parameters: {'max_depth': 1, 'n_estimators': 880, 'learning_rate': 0.07606690070459253, 'colsample_bytree': 0.6956508044572318, 'subsample': 0.21440914600706173, 'min_child_weight': 19.428287191077892}. Best is trial 1 with value: 0.9505392217332979.\u001b[0m\n",
      "\u001b[32m[I 2023-01-30 07:13:56,751]\u001b[0m Trial 2 finished with value: 0.9513622239754373 and parameters: {'max_depth': 13, 'n_estimators': 291, 'learning_rate': 0.05090949803242604, 'colsample_bytree': 0.3283831568974037, 'subsample': 0.4129695700716764, 'min_child_weight': 10.97037220101252}. Best is trial 2 with value: 0.9513622239754373.\u001b[0m\n",
      "\u001b[32m[I 2023-01-30 07:20:15,137]\u001b[0m Trial 3 finished with value: 0.9517018665569285 and parameters: {'max_depth': 7, 'n_estimators': 362, 'learning_rate': 0.07671117368334276, 'colsample_bytree': 0.2976457024564293, 'subsample': 0.4045012539746527, 'min_child_weight': 7.960875022580142}. Best is trial 3 with value: 0.9517018665569285.\u001b[0m\n",
      "\u001b[32m[I 2023-01-30 07:40:34,103]\u001b[0m Trial 4 finished with value: 0.9496693972864276 and parameters: {'max_depth': 7, 'n_estimators': 807, 'learning_rate': 0.05198042692950158, 'colsample_bytree': 0.5599641068895281, 'subsample': 0.6146901982034297, 'min_child_weight': 1.8825578416799567}. Best is trial 3 with value: 0.9517018665569285.\u001b[0m\n",
      "\u001b[32m[I 2023-01-30 07:46:18,089]\u001b[0m Trial 5 finished with value: 0.9545400581391883 and parameters: {'max_depth': 10, 'n_estimators': 253, 'learning_rate': 0.04390309557911677, 'colsample_bytree': 0.8642198760773332, 'subsample': 0.8759424231521915, 'min_child_weight': 16.35954961421276}. Best is trial 5 with value: 0.9545400581391883.\u001b[0m\n",
      "\u001b[32m[I 2023-01-30 07:47:57,614]\u001b[0m Trial 6 finished with value: 0.9544285778589343 and parameters: {'max_depth': 5, 'n_estimators': 188, 'learning_rate': 0.08105398159072942, 'colsample_bytree': 0.5081067456177208, 'subsample': 0.2854267643913452, 'min_child_weight': 10.408361292114133}. Best is trial 5 with value: 0.9545400581391883.\u001b[0m\n",
      "\u001b[32m[I 2023-01-30 07:51:31,554]\u001b[0m Trial 7 finished with value: 0.9526843051598216 and parameters: {'max_depth': 1, 'n_estimators': 919, 'learning_rate': 0.05552679889600102, 'colsample_bytree': 0.6637655990477873, 'subsample': 0.4181977532625877, 'min_child_weight': 10.881292402378406}. Best is trial 5 with value: 0.9545400581391883.\u001b[0m\n",
      "\u001b[32m[I 2023-01-30 07:55:49,861]\u001b[0m Trial 8 finished with value: 0.9521992198888666 and parameters: {'max_depth': 9, 'n_estimators': 266, 'learning_rate': 0.09817507766587352, 'colsample_bytree': 0.7425929763527801, 'subsample': 0.8576492590949323, 'min_child_weight': 18.001719658125328}. Best is trial 5 with value: 0.9545400581391883.\u001b[0m\n",
      "\u001b[32m[I 2023-01-30 08:04:39,814]\u001b[0m Trial 9 finished with value: 0.9494509565871333 and parameters: {'max_depth': 9, 'n_estimators': 930, 'learning_rate': 0.045309550123115175, 'colsample_bytree': 0.33718800369340163, 'subsample': 0.23165910223737665, 'min_child_weight': 7.181276284502022}. Best is trial 5 with value: 0.9545400581391883.\u001b[0m\n",
      "\u001b[32m[I 2023-01-30 08:15:47,146]\u001b[0m Trial 10 finished with value: 0.9488816295323299 and parameters: {'max_depth': 15, 'n_estimators': 526, 'learning_rate': 0.06212372636326584, 'colsample_bytree': 0.8686013803291293, 'subsample': 0.8887273647942282, 'min_child_weight': 15.865168127849536}. Best is trial 5 with value: 0.9545400581391883.\u001b[0m\n",
      "\u001b[32m[I 2023-01-30 08:16:42,430]\u001b[0m Trial 11 finished with value: 0.9547460544421058 and parameters: {'max_depth': 4, 'n_estimators': 110, 'learning_rate': 0.08929858135875245, 'colsample_bytree': 0.46572297039415644, 'subsample': 0.686001955925517, 'min_child_weight': 14.245962068461797}. Best is trial 11 with value: 0.9547460544421058.\u001b[0m\n",
      "\u001b[32m[I 2023-01-30 08:18:36,216]\u001b[0m Trial 12 finished with value: 0.9526469651294567 and parameters: {'max_depth': 11, 'n_estimators': 125, 'learning_rate': 0.09684146012669646, 'colsample_bytree': 0.4444864164362768, 'subsample': 0.7002712350125957, 'min_child_weight': 14.75459466723051}. Best is trial 11 with value: 0.9547460544421058.\u001b[0m\n",
      "\u001b[32m[I 2023-01-30 08:23:14,931]\u001b[0m Trial 13 finished with value: 0.9553543630767615 and parameters: {'max_depth': 4, 'n_estimators': 450, 'learning_rate': 0.06727922379972133, 'colsample_bytree': 0.899135296557822, 'subsample': 0.7448823752180079, 'min_child_weight': 14.56312619372439}. Best is trial 13 with value: 0.9553543630767615.\u001b[0m\n",
      "\u001b[32m[I 2023-01-30 08:26:54,782]\u001b[0m Trial 14 finished with value: 0.9551540116175641 and parameters: {'max_depth': 4, 'n_estimators': 481, 'learning_rate': 0.06761375544282715, 'colsample_bytree': 0.4399595017864215, 'subsample': 0.6831950112415671, 'min_child_weight': 13.556258780553447}. Best is trial 13 with value: 0.9553543630767615.\u001b[0m\n",
      "\u001b[32m[I 2023-01-30 08:32:05,844]\u001b[0m Trial 15 finished with value: 0.9552885857873298 and parameters: {'max_depth': 4, 'n_estimators': 545, 'learning_rate': 0.06621271564355173, 'colsample_bytree': 0.7671433494166982, 'subsample': 0.7585964083553123, 'min_child_weight': 13.248800020093626}. Best is trial 13 with value: 0.9553543630767615.\u001b[0m\n",
      "\u001b[32m[I 2023-01-30 08:37:17,193]\u001b[0m Trial 16 finished with value: 0.9556784205488783 and parameters: {'max_depth': 3, 'n_estimators': 682, 'learning_rate': 0.06772688550406768, 'colsample_bytree': 0.7824674329285075, 'subsample': 0.7840431183473839, 'min_child_weight': 12.260165245310429}. Best is trial 16 with value: 0.9556784205488783.\u001b[0m\n",
      "\u001b[32m[I 2023-01-30 08:41:32,958]\u001b[0m Trial 17 finished with value: 0.956134355354186 and parameters: {'max_depth': 2, 'n_estimators': 720, 'learning_rate': 0.05925101071718902, 'colsample_bytree': 0.8948914655705359, 'subsample': 0.545181348705896, 'min_child_weight': 8.144432018260666}. Best is trial 17 with value: 0.956134355354186.\u001b[0m\n",
      "\u001b[32m[I 2023-01-30 08:45:53,562]\u001b[0m Trial 18 finished with value: 0.9560784054324099 and parameters: {'max_depth': 2, 'n_estimators': 677, 'learning_rate': 0.05922857262124868, 'colsample_bytree': 0.8037427740694663, 'subsample': 0.48554865283908355, 'min_child_weight': 6.498092071759876}. Best is trial 17 with value: 0.956134355354186.\u001b[0m\n",
      "\u001b[32m[I 2023-01-30 08:52:56,169]\u001b[0m Trial 19 finished with value: 0.9560646632641201 and parameters: {'max_depth': 2, 'n_estimators': 676, 'learning_rate': 0.0585811567633961, 'colsample_bytree': 0.7881854345535086, 'subsample': 0.5344780180272349, 'min_child_weight': 6.381730717065565}. Best is trial 17 with value: 0.956134355354186.\u001b[0m\n",
      "\u001b[33m[W 2023-01-30 08:56:22,805]\u001b[0m Trial 20 failed because of the following error: KeyboardInterrupt()\u001b[0m\n",
      "Traceback (most recent call last):\n",
      "  File \"C:\\Users\\hyo\\anaconda3\\lib\\site-packages\\optuna\\study\\_optimize.py\", line 196, in _run_trial\n",
      "    value_or_values = func(trial)\n",
      "  File \"C:\\Users\\hyo\\AppData\\Local\\Temp/ipykernel_36828/1754178089.py\", line 21, in XGB_objective\n",
      "    model.fit(x_train, y_train)\n",
      "  File \"C:\\Users\\hyo\\anaconda3\\lib\\site-packages\\xgboost\\core.py\", line 532, in inner_f\n",
      "    return f(**kwargs)\n",
      "  File \"C:\\Users\\hyo\\anaconda3\\lib\\site-packages\\xgboost\\sklearn.py\", line 1400, in fit\n",
      "    self._Booster = train(\n",
      "  File \"C:\\Users\\hyo\\anaconda3\\lib\\site-packages\\xgboost\\core.py\", line 532, in inner_f\n",
      "    return f(**kwargs)\n",
      "  File \"C:\\Users\\hyo\\anaconda3\\lib\\site-packages\\xgboost\\training.py\", line 181, in train\n",
      "    bst.update(dtrain, i, obj)\n",
      "  File \"C:\\Users\\hyo\\anaconda3\\lib\\site-packages\\xgboost\\core.py\", line 1733, in update\n",
      "    _check_call(_LIB.XGBoosterUpdateOneIter(self.handle,\n",
      "KeyboardInterrupt\n"
     ]
    },
    {
     "ename": "KeyboardInterrupt",
     "evalue": "",
     "output_type": "error",
     "traceback": [
      "\u001b[1;31m---------------------------------------------------------------------------\u001b[0m",
      "\u001b[1;31mKeyboardInterrupt\u001b[0m                         Traceback (most recent call last)",
      "\u001b[1;32m~\\AppData\\Local\\Temp/ipykernel_36828/1754178089.py\u001b[0m in \u001b[0;36m<module>\u001b[1;34m\u001b[0m\n\u001b[0;32m     27\u001b[0m \u001b[1;33m\u001b[0m\u001b[0m\n\u001b[0;32m     28\u001b[0m \u001b[0mxgb_roc_study\u001b[0m \u001b[1;33m=\u001b[0m \u001b[0moptuna\u001b[0m\u001b[1;33m.\u001b[0m\u001b[0mcreate_study\u001b[0m\u001b[1;33m(\u001b[0m\u001b[0mdirection\u001b[0m\u001b[1;33m=\u001b[0m\u001b[1;34m'maximize'\u001b[0m\u001b[1;33m,\u001b[0m \u001b[0msampler\u001b[0m\u001b[1;33m=\u001b[0m\u001b[0moptuna\u001b[0m\u001b[1;33m.\u001b[0m\u001b[0msamplers\u001b[0m\u001b[1;33m.\u001b[0m\u001b[0mTPESampler\u001b[0m\u001b[1;33m(\u001b[0m\u001b[0mseed\u001b[0m\u001b[1;33m=\u001b[0m\u001b[1;36m42\u001b[0m\u001b[1;33m)\u001b[0m\u001b[1;33m)\u001b[0m\u001b[1;33m\u001b[0m\u001b[1;33m\u001b[0m\u001b[0m\n\u001b[1;32m---> 29\u001b[1;33m \u001b[0mxgb_roc_study\u001b[0m\u001b[1;33m.\u001b[0m\u001b[0moptimize\u001b[0m\u001b[1;33m(\u001b[0m\u001b[0mXGB_objective\u001b[0m\u001b[1;33m,\u001b[0m \u001b[0mn_trials\u001b[0m\u001b[1;33m=\u001b[0m\u001b[1;36m100\u001b[0m\u001b[1;33m)\u001b[0m\u001b[1;33m\u001b[0m\u001b[1;33m\u001b[0m\u001b[0m\n\u001b[0m\u001b[0;32m     30\u001b[0m \u001b[1;33m\u001b[0m\u001b[0m\n\u001b[0;32m     31\u001b[0m \u001b[0mxgb_roc_best\u001b[0m \u001b[1;33m=\u001b[0m \u001b[0mxgb_roc_study\u001b[0m\u001b[1;33m.\u001b[0m\u001b[0mbest_trial\u001b[0m\u001b[1;33m\u001b[0m\u001b[1;33m\u001b[0m\u001b[0m\n",
      "\u001b[1;32m~\\anaconda3\\lib\\site-packages\\optuna\\study\\study.py\u001b[0m in \u001b[0;36moptimize\u001b[1;34m(self, func, n_trials, timeout, n_jobs, catch, callbacks, gc_after_trial, show_progress_bar)\u001b[0m\n\u001b[0;32m    417\u001b[0m         \"\"\"\n\u001b[0;32m    418\u001b[0m \u001b[1;33m\u001b[0m\u001b[0m\n\u001b[1;32m--> 419\u001b[1;33m         _optimize(\n\u001b[0m\u001b[0;32m    420\u001b[0m             \u001b[0mstudy\u001b[0m\u001b[1;33m=\u001b[0m\u001b[0mself\u001b[0m\u001b[1;33m,\u001b[0m\u001b[1;33m\u001b[0m\u001b[1;33m\u001b[0m\u001b[0m\n\u001b[0;32m    421\u001b[0m             \u001b[0mfunc\u001b[0m\u001b[1;33m=\u001b[0m\u001b[0mfunc\u001b[0m\u001b[1;33m,\u001b[0m\u001b[1;33m\u001b[0m\u001b[1;33m\u001b[0m\u001b[0m\n",
      "\u001b[1;32m~\\anaconda3\\lib\\site-packages\\optuna\\study\\_optimize.py\u001b[0m in \u001b[0;36m_optimize\u001b[1;34m(study, func, n_trials, timeout, n_jobs, catch, callbacks, gc_after_trial, show_progress_bar)\u001b[0m\n\u001b[0;32m     64\u001b[0m     \u001b[1;32mtry\u001b[0m\u001b[1;33m:\u001b[0m\u001b[1;33m\u001b[0m\u001b[1;33m\u001b[0m\u001b[0m\n\u001b[0;32m     65\u001b[0m         \u001b[1;32mif\u001b[0m \u001b[0mn_jobs\u001b[0m \u001b[1;33m==\u001b[0m \u001b[1;36m1\u001b[0m\u001b[1;33m:\u001b[0m\u001b[1;33m\u001b[0m\u001b[1;33m\u001b[0m\u001b[0m\n\u001b[1;32m---> 66\u001b[1;33m             _optimize_sequential(\n\u001b[0m\u001b[0;32m     67\u001b[0m                 \u001b[0mstudy\u001b[0m\u001b[1;33m,\u001b[0m\u001b[1;33m\u001b[0m\u001b[1;33m\u001b[0m\u001b[0m\n\u001b[0;32m     68\u001b[0m                 \u001b[0mfunc\u001b[0m\u001b[1;33m,\u001b[0m\u001b[1;33m\u001b[0m\u001b[1;33m\u001b[0m\u001b[0m\n",
      "\u001b[1;32m~\\anaconda3\\lib\\site-packages\\optuna\\study\\_optimize.py\u001b[0m in \u001b[0;36m_optimize_sequential\u001b[1;34m(study, func, n_trials, timeout, catch, callbacks, gc_after_trial, reseed_sampler_rng, time_start, progress_bar)\u001b[0m\n\u001b[0;32m    158\u001b[0m \u001b[1;33m\u001b[0m\u001b[0m\n\u001b[0;32m    159\u001b[0m         \u001b[1;32mtry\u001b[0m\u001b[1;33m:\u001b[0m\u001b[1;33m\u001b[0m\u001b[1;33m\u001b[0m\u001b[0m\n\u001b[1;32m--> 160\u001b[1;33m             \u001b[0mfrozen_trial\u001b[0m \u001b[1;33m=\u001b[0m \u001b[0m_run_trial\u001b[0m\u001b[1;33m(\u001b[0m\u001b[0mstudy\u001b[0m\u001b[1;33m,\u001b[0m \u001b[0mfunc\u001b[0m\u001b[1;33m,\u001b[0m \u001b[0mcatch\u001b[0m\u001b[1;33m)\u001b[0m\u001b[1;33m\u001b[0m\u001b[1;33m\u001b[0m\u001b[0m\n\u001b[0m\u001b[0;32m    161\u001b[0m         \u001b[1;32mfinally\u001b[0m\u001b[1;33m:\u001b[0m\u001b[1;33m\u001b[0m\u001b[1;33m\u001b[0m\u001b[0m\n\u001b[0;32m    162\u001b[0m             \u001b[1;31m# The following line mitigates memory problems that can be occurred in some\u001b[0m\u001b[1;33m\u001b[0m\u001b[1;33m\u001b[0m\u001b[0m\n",
      "\u001b[1;32m~\\anaconda3\\lib\\site-packages\\optuna\\study\\_optimize.py\u001b[0m in \u001b[0;36m_run_trial\u001b[1;34m(study, func, catch)\u001b[0m\n\u001b[0;32m    232\u001b[0m         \u001b[1;32mand\u001b[0m \u001b[1;32mnot\u001b[0m \u001b[0misinstance\u001b[0m\u001b[1;33m(\u001b[0m\u001b[0mfunc_err\u001b[0m\u001b[1;33m,\u001b[0m \u001b[0mcatch\u001b[0m\u001b[1;33m)\u001b[0m\u001b[1;33m\u001b[0m\u001b[1;33m\u001b[0m\u001b[0m\n\u001b[0;32m    233\u001b[0m     ):\n\u001b[1;32m--> 234\u001b[1;33m         \u001b[1;32mraise\u001b[0m \u001b[0mfunc_err\u001b[0m\u001b[1;33m\u001b[0m\u001b[1;33m\u001b[0m\u001b[0m\n\u001b[0m\u001b[0;32m    235\u001b[0m     \u001b[1;32mreturn\u001b[0m \u001b[0mfrozen_trial\u001b[0m\u001b[1;33m\u001b[0m\u001b[1;33m\u001b[0m\u001b[0m\n\u001b[0;32m    236\u001b[0m \u001b[1;33m\u001b[0m\u001b[0m\n",
      "\u001b[1;32m~\\anaconda3\\lib\\site-packages\\optuna\\study\\_optimize.py\u001b[0m in \u001b[0;36m_run_trial\u001b[1;34m(study, func, catch)\u001b[0m\n\u001b[0;32m    194\u001b[0m     \u001b[1;32mwith\u001b[0m \u001b[0mget_heartbeat_thread\u001b[0m\u001b[1;33m(\u001b[0m\u001b[0mtrial\u001b[0m\u001b[1;33m.\u001b[0m\u001b[0m_trial_id\u001b[0m\u001b[1;33m,\u001b[0m \u001b[0mstudy\u001b[0m\u001b[1;33m.\u001b[0m\u001b[0m_storage\u001b[0m\u001b[1;33m)\u001b[0m\u001b[1;33m:\u001b[0m\u001b[1;33m\u001b[0m\u001b[1;33m\u001b[0m\u001b[0m\n\u001b[0;32m    195\u001b[0m         \u001b[1;32mtry\u001b[0m\u001b[1;33m:\u001b[0m\u001b[1;33m\u001b[0m\u001b[1;33m\u001b[0m\u001b[0m\n\u001b[1;32m--> 196\u001b[1;33m             \u001b[0mvalue_or_values\u001b[0m \u001b[1;33m=\u001b[0m \u001b[0mfunc\u001b[0m\u001b[1;33m(\u001b[0m\u001b[0mtrial\u001b[0m\u001b[1;33m)\u001b[0m\u001b[1;33m\u001b[0m\u001b[1;33m\u001b[0m\u001b[0m\n\u001b[0m\u001b[0;32m    197\u001b[0m         \u001b[1;32mexcept\u001b[0m \u001b[0mexceptions\u001b[0m\u001b[1;33m.\u001b[0m\u001b[0mTrialPruned\u001b[0m \u001b[1;32mas\u001b[0m \u001b[0me\u001b[0m\u001b[1;33m:\u001b[0m\u001b[1;33m\u001b[0m\u001b[1;33m\u001b[0m\u001b[0m\n\u001b[0;32m    198\u001b[0m             \u001b[1;31m# TODO(mamu): Handle multi-objective cases.\u001b[0m\u001b[1;33m\u001b[0m\u001b[1;33m\u001b[0m\u001b[0m\n",
      "\u001b[1;32m~\\AppData\\Local\\Temp/ipykernel_36828/1754178089.py\u001b[0m in \u001b[0;36mXGB_objective\u001b[1;34m(trial)\u001b[0m\n\u001b[0;32m     19\u001b[0m         \u001b[0my_train\u001b[0m\u001b[1;33m,\u001b[0m \u001b[0my_test\u001b[0m \u001b[1;33m=\u001b[0m \u001b[0my\u001b[0m\u001b[1;33m.\u001b[0m\u001b[0miloc\u001b[0m\u001b[1;33m[\u001b[0m\u001b[0mtrain_index\u001b[0m\u001b[1;33m]\u001b[0m\u001b[1;33m,\u001b[0m \u001b[0my\u001b[0m\u001b[1;33m.\u001b[0m\u001b[0miloc\u001b[0m\u001b[1;33m[\u001b[0m\u001b[0mtest_index\u001b[0m\u001b[1;33m]\u001b[0m\u001b[1;33m\u001b[0m\u001b[1;33m\u001b[0m\u001b[0m\n\u001b[0;32m     20\u001b[0m \u001b[1;33m\u001b[0m\u001b[0m\n\u001b[1;32m---> 21\u001b[1;33m         \u001b[0mmodel\u001b[0m\u001b[1;33m.\u001b[0m\u001b[0mfit\u001b[0m\u001b[1;33m(\u001b[0m\u001b[0mx_train\u001b[0m\u001b[1;33m,\u001b[0m \u001b[0my_train\u001b[0m\u001b[1;33m)\u001b[0m\u001b[1;33m\u001b[0m\u001b[1;33m\u001b[0m\u001b[0m\n\u001b[0m\u001b[0;32m     22\u001b[0m         \u001b[0my_pred\u001b[0m \u001b[1;33m=\u001b[0m \u001b[0mmodel\u001b[0m\u001b[1;33m.\u001b[0m\u001b[0mpredict_proba\u001b[0m\u001b[1;33m(\u001b[0m\u001b[0mx_test\u001b[0m\u001b[1;33m)\u001b[0m\u001b[1;33m\u001b[0m\u001b[1;33m\u001b[0m\u001b[0m\n\u001b[0;32m     23\u001b[0m         \u001b[0mscore\u001b[0m \u001b[1;33m=\u001b[0m \u001b[0mroc_auc_score\u001b[0m\u001b[1;33m(\u001b[0m\u001b[0my_test\u001b[0m\u001b[1;33m,\u001b[0m \u001b[0my_pred\u001b[0m\u001b[1;33m,\u001b[0m \u001b[0mmulti_class\u001b[0m\u001b[1;33m=\u001b[0m\u001b[1;34m'ovr'\u001b[0m\u001b[1;33m,\u001b[0m \u001b[0maverage\u001b[0m\u001b[1;33m=\u001b[0m\u001b[1;34m'macro'\u001b[0m\u001b[1;33m)\u001b[0m\u001b[1;33m\u001b[0m\u001b[1;33m\u001b[0m\u001b[0m\n",
      "\u001b[1;32m~\\anaconda3\\lib\\site-packages\\xgboost\\core.py\u001b[0m in \u001b[0;36minner_f\u001b[1;34m(*args, **kwargs)\u001b[0m\n\u001b[0;32m    530\u001b[0m         \u001b[1;32mfor\u001b[0m \u001b[0mk\u001b[0m\u001b[1;33m,\u001b[0m \u001b[0marg\u001b[0m \u001b[1;32min\u001b[0m \u001b[0mzip\u001b[0m\u001b[1;33m(\u001b[0m\u001b[0msig\u001b[0m\u001b[1;33m.\u001b[0m\u001b[0mparameters\u001b[0m\u001b[1;33m,\u001b[0m \u001b[0margs\u001b[0m\u001b[1;33m)\u001b[0m\u001b[1;33m:\u001b[0m\u001b[1;33m\u001b[0m\u001b[1;33m\u001b[0m\u001b[0m\n\u001b[0;32m    531\u001b[0m             \u001b[0mkwargs\u001b[0m\u001b[1;33m[\u001b[0m\u001b[0mk\u001b[0m\u001b[1;33m]\u001b[0m \u001b[1;33m=\u001b[0m \u001b[0marg\u001b[0m\u001b[1;33m\u001b[0m\u001b[1;33m\u001b[0m\u001b[0m\n\u001b[1;32m--> 532\u001b[1;33m         \u001b[1;32mreturn\u001b[0m \u001b[0mf\u001b[0m\u001b[1;33m(\u001b[0m\u001b[1;33m**\u001b[0m\u001b[0mkwargs\u001b[0m\u001b[1;33m)\u001b[0m\u001b[1;33m\u001b[0m\u001b[1;33m\u001b[0m\u001b[0m\n\u001b[0m\u001b[0;32m    533\u001b[0m \u001b[1;33m\u001b[0m\u001b[0m\n\u001b[0;32m    534\u001b[0m     \u001b[1;32mreturn\u001b[0m \u001b[0minner_f\u001b[0m\u001b[1;33m\u001b[0m\u001b[1;33m\u001b[0m\u001b[0m\n",
      "\u001b[1;32m~\\anaconda3\\lib\\site-packages\\xgboost\\sklearn.py\u001b[0m in \u001b[0;36mfit\u001b[1;34m(self, X, y, sample_weight, base_margin, eval_set, eval_metric, early_stopping_rounds, verbose, xgb_model, sample_weight_eval_set, base_margin_eval_set, feature_weights, callbacks)\u001b[0m\n\u001b[0;32m   1398\u001b[0m         )\n\u001b[0;32m   1399\u001b[0m \u001b[1;33m\u001b[0m\u001b[0m\n\u001b[1;32m-> 1400\u001b[1;33m         self._Booster = train(\n\u001b[0m\u001b[0;32m   1401\u001b[0m             \u001b[0mparams\u001b[0m\u001b[1;33m,\u001b[0m\u001b[1;33m\u001b[0m\u001b[1;33m\u001b[0m\u001b[0m\n\u001b[0;32m   1402\u001b[0m             \u001b[0mtrain_dmatrix\u001b[0m\u001b[1;33m,\u001b[0m\u001b[1;33m\u001b[0m\u001b[1;33m\u001b[0m\u001b[0m\n",
      "\u001b[1;32m~\\anaconda3\\lib\\site-packages\\xgboost\\core.py\u001b[0m in \u001b[0;36minner_f\u001b[1;34m(*args, **kwargs)\u001b[0m\n\u001b[0;32m    530\u001b[0m         \u001b[1;32mfor\u001b[0m \u001b[0mk\u001b[0m\u001b[1;33m,\u001b[0m \u001b[0marg\u001b[0m \u001b[1;32min\u001b[0m \u001b[0mzip\u001b[0m\u001b[1;33m(\u001b[0m\u001b[0msig\u001b[0m\u001b[1;33m.\u001b[0m\u001b[0mparameters\u001b[0m\u001b[1;33m,\u001b[0m \u001b[0margs\u001b[0m\u001b[1;33m)\u001b[0m\u001b[1;33m:\u001b[0m\u001b[1;33m\u001b[0m\u001b[1;33m\u001b[0m\u001b[0m\n\u001b[0;32m    531\u001b[0m             \u001b[0mkwargs\u001b[0m\u001b[1;33m[\u001b[0m\u001b[0mk\u001b[0m\u001b[1;33m]\u001b[0m \u001b[1;33m=\u001b[0m \u001b[0marg\u001b[0m\u001b[1;33m\u001b[0m\u001b[1;33m\u001b[0m\u001b[0m\n\u001b[1;32m--> 532\u001b[1;33m         \u001b[1;32mreturn\u001b[0m \u001b[0mf\u001b[0m\u001b[1;33m(\u001b[0m\u001b[1;33m**\u001b[0m\u001b[0mkwargs\u001b[0m\u001b[1;33m)\u001b[0m\u001b[1;33m\u001b[0m\u001b[1;33m\u001b[0m\u001b[0m\n\u001b[0m\u001b[0;32m    533\u001b[0m \u001b[1;33m\u001b[0m\u001b[0m\n\u001b[0;32m    534\u001b[0m     \u001b[1;32mreturn\u001b[0m \u001b[0minner_f\u001b[0m\u001b[1;33m\u001b[0m\u001b[1;33m\u001b[0m\u001b[0m\n",
      "\u001b[1;32m~\\anaconda3\\lib\\site-packages\\xgboost\\training.py\u001b[0m in \u001b[0;36mtrain\u001b[1;34m(params, dtrain, num_boost_round, evals, obj, feval, maximize, early_stopping_rounds, evals_result, verbose_eval, xgb_model, callbacks, custom_metric)\u001b[0m\n\u001b[0;32m    179\u001b[0m         \u001b[1;32mif\u001b[0m \u001b[0mcb_container\u001b[0m\u001b[1;33m.\u001b[0m\u001b[0mbefore_iteration\u001b[0m\u001b[1;33m(\u001b[0m\u001b[0mbst\u001b[0m\u001b[1;33m,\u001b[0m \u001b[0mi\u001b[0m\u001b[1;33m,\u001b[0m \u001b[0mdtrain\u001b[0m\u001b[1;33m,\u001b[0m \u001b[0mevals\u001b[0m\u001b[1;33m)\u001b[0m\u001b[1;33m:\u001b[0m\u001b[1;33m\u001b[0m\u001b[1;33m\u001b[0m\u001b[0m\n\u001b[0;32m    180\u001b[0m             \u001b[1;32mbreak\u001b[0m\u001b[1;33m\u001b[0m\u001b[1;33m\u001b[0m\u001b[0m\n\u001b[1;32m--> 181\u001b[1;33m         \u001b[0mbst\u001b[0m\u001b[1;33m.\u001b[0m\u001b[0mupdate\u001b[0m\u001b[1;33m(\u001b[0m\u001b[0mdtrain\u001b[0m\u001b[1;33m,\u001b[0m \u001b[0mi\u001b[0m\u001b[1;33m,\u001b[0m \u001b[0mobj\u001b[0m\u001b[1;33m)\u001b[0m\u001b[1;33m\u001b[0m\u001b[1;33m\u001b[0m\u001b[0m\n\u001b[0m\u001b[0;32m    182\u001b[0m         \u001b[1;32mif\u001b[0m \u001b[0mcb_container\u001b[0m\u001b[1;33m.\u001b[0m\u001b[0mafter_iteration\u001b[0m\u001b[1;33m(\u001b[0m\u001b[0mbst\u001b[0m\u001b[1;33m,\u001b[0m \u001b[0mi\u001b[0m\u001b[1;33m,\u001b[0m \u001b[0mdtrain\u001b[0m\u001b[1;33m,\u001b[0m \u001b[0mevals\u001b[0m\u001b[1;33m)\u001b[0m\u001b[1;33m:\u001b[0m\u001b[1;33m\u001b[0m\u001b[1;33m\u001b[0m\u001b[0m\n\u001b[0;32m    183\u001b[0m             \u001b[1;32mbreak\u001b[0m\u001b[1;33m\u001b[0m\u001b[1;33m\u001b[0m\u001b[0m\n",
      "\u001b[1;32m~\\anaconda3\\lib\\site-packages\\xgboost\\core.py\u001b[0m in \u001b[0;36mupdate\u001b[1;34m(self, dtrain, iteration, fobj)\u001b[0m\n\u001b[0;32m   1731\u001b[0m \u001b[1;33m\u001b[0m\u001b[0m\n\u001b[0;32m   1732\u001b[0m         \u001b[1;32mif\u001b[0m \u001b[0mfobj\u001b[0m \u001b[1;32mis\u001b[0m \u001b[1;32mNone\u001b[0m\u001b[1;33m:\u001b[0m\u001b[1;33m\u001b[0m\u001b[1;33m\u001b[0m\u001b[0m\n\u001b[1;32m-> 1733\u001b[1;33m             _check_call(_LIB.XGBoosterUpdateOneIter(self.handle,\n\u001b[0m\u001b[0;32m   1734\u001b[0m                                                     \u001b[0mctypes\u001b[0m\u001b[1;33m.\u001b[0m\u001b[0mc_int\u001b[0m\u001b[1;33m(\u001b[0m\u001b[0miteration\u001b[0m\u001b[1;33m)\u001b[0m\u001b[1;33m,\u001b[0m\u001b[1;33m\u001b[0m\u001b[1;33m\u001b[0m\u001b[0m\n\u001b[0;32m   1735\u001b[0m                                                     dtrain.handle))\n",
      "\u001b[1;31mKeyboardInterrupt\u001b[0m: "
     ]
    }
   ],
   "source": [
    "#xgb\n",
    "skf = StratifiedKFold(n_splits=4, shuffle=True, random_state=42)\n",
    "\n",
    "def XGB_objective(trial):\n",
    "    max_depth = trial.suggest_int('max_depth', 1, 15)\n",
    "    n_estimators = trial.suggest_int('n_estimators', 100, 1000)\n",
    "    learning_rate = trial.suggest_float(\"learning_rate\", 4e-2, 1e-1) # default=0.1, range=[0,1]\n",
    "    colsample_bytree = trial.suggest_float(\"colsample_bytree\", 0.2, 0.9) # feature_fraction, default=1\n",
    "    subsample = trial.suggest_float(\"subsample\", 0.2, 0.9) # bagging_fraction, default=1, range=[0,1]\n",
    "    min_child_weight = trial.suggest_float('min_child_weight', 1, 20)\n",
    "\n",
    "    model = XGBClassifier(max_depth = max_depth, n_estimators = n_estimators, learning_rate = learning_rate,\n",
    "                          colsample_bytree = colsample_bytree, subsample = subsample, min_child_weight= min_child_weight,\n",
    "                          n_jobs=4,random_state=42)\n",
    "    score = [] \n",
    "    cv_scores = []\n",
    "    for train_index, test_index in skf.split(x, y):\n",
    "        x_train, x_test = x.iloc[train_index], x.iloc[test_index]\n",
    "        y_train, y_test = y.iloc[train_index], y.iloc[test_index]\n",
    "        \n",
    "        model.fit(x_train, y_train)\n",
    "        y_pred = model.predict_proba(x_test)\n",
    "        score = roc_auc_score(y_test, y_pred, multi_class='ovr', average='macro')      \n",
    "        cv_scores.append(score)\n",
    "        \n",
    "    return np.mean(cv_scores)\n",
    "\n",
    "xgb_roc_study = optuna.create_study(direction='maximize', sampler=optuna.samplers.TPESampler(seed=42))\n",
    "xgb_roc_study.optimize(XGB_objective, n_trials=100)\n",
    "\n",
    "xgb_roc_best = xgb_roc_study.best_trial\n",
    "xgb_roc_best_params = xgb_roc_best.params\n",
    "print('score: {0}, params: {1}'.format(xgb_roc_best.value, xgb_roc_best_params))"
   ]
  },
  {
   "cell_type": "code",
   "execution_count": 17,
   "id": "316e0bdc-abfe-4d25-8f40-863d5e107fff",
   "metadata": {},
   "outputs": [],
   "source": [
    "lgbm_roc_best_params = {'max_depth': 3, 'n_estimators': 198, 'learning_rate': 0.09135994489595964, 'colsample_bytree': 0.5907172908133997, 'subsample': 0.5479761302974681, 'min_child_samples': 20, 'min_child_weight': 3.787616293272679}"
   ]
  },
  {
   "cell_type": "code",
   "execution_count": 18,
   "id": "01e83ded-46a7-44dc-99bf-79eabdc46e14",
   "metadata": {},
   "outputs": [],
   "source": [
    "rf_roc_best_params = {'max_depth': 14, 'max_leaf_nodes': 804, 'n_estimators': 735}"
   ]
  },
  {
   "cell_type": "code",
   "execution_count": 19,
   "id": "7677416c-5711-49d1-92db-59edb73bd2c5",
   "metadata": {},
   "outputs": [],
   "source": [
    "xgb_roc_best_params = {'max_depth': 2, 'n_estimators': 720, 'learning_rate': 0.05925101071718902, 'colsample_bytree': 0.8948914655705359, 'subsample': 0.545181348705896, 'min_child_weight': 8.144432018260666}"
   ]
  },
  {
   "cell_type": "code",
   "execution_count": 20,
   "id": "a4c13037-83f9-40d5-81d9-ddd90c8b6c07",
   "metadata": {},
   "outputs": [],
   "source": [
    "LGBMC = LGBMClassifier()\n",
    "lgb_best_model = LGBMClassifier(**lgbm_roc_best_params, n_jobs= 4, random_state=42)"
   ]
  },
  {
   "cell_type": "code",
   "execution_count": 21,
   "id": "a82422ee-3370-49fa-949c-5dac952921f6",
   "metadata": {},
   "outputs": [],
   "source": [
    "RFC = RandomForestClassifier()\n",
    "rf_best_model = RandomForestClassifier(**rf_roc_best_params, n_jobs= 4, random_state=42)"
   ]
  },
  {
   "cell_type": "code",
   "execution_count": 22,
   "id": "241b1b3e-1250-4ec5-9c55-a941b5e3a4dd",
   "metadata": {},
   "outputs": [],
   "source": [
    "XGBC = XGBClassifier()\n",
    "xgb_best_model = XGBClassifier(**xgb_roc_best_params, n_jobs= 4, random_state=42)"
   ]
  },
  {
   "cell_type": "code",
   "execution_count": 28,
   "id": "14efcc2b-465b-4d36-b780-18f2dd2375f9",
   "metadata": {},
   "outputs": [
    {
     "data": {
      "text/html": [
       "<style>#sk-container-id-1 {color: black;background-color: white;}#sk-container-id-1 pre{padding: 0;}#sk-container-id-1 div.sk-toggleable {background-color: white;}#sk-container-id-1 label.sk-toggleable__label {cursor: pointer;display: block;width: 100%;margin-bottom: 0;padding: 0.3em;box-sizing: border-box;text-align: center;}#sk-container-id-1 label.sk-toggleable__label-arrow:before {content: \"▸\";float: left;margin-right: 0.25em;color: #696969;}#sk-container-id-1 label.sk-toggleable__label-arrow:hover:before {color: black;}#sk-container-id-1 div.sk-estimator:hover label.sk-toggleable__label-arrow:before {color: black;}#sk-container-id-1 div.sk-toggleable__content {max-height: 0;max-width: 0;overflow: hidden;text-align: left;background-color: #f0f8ff;}#sk-container-id-1 div.sk-toggleable__content pre {margin: 0.2em;color: black;border-radius: 0.25em;background-color: #f0f8ff;}#sk-container-id-1 input.sk-toggleable__control:checked~div.sk-toggleable__content {max-height: 200px;max-width: 100%;overflow: auto;}#sk-container-id-1 input.sk-toggleable__control:checked~label.sk-toggleable__label-arrow:before {content: \"▾\";}#sk-container-id-1 div.sk-estimator input.sk-toggleable__control:checked~label.sk-toggleable__label {background-color: #d4ebff;}#sk-container-id-1 div.sk-label input.sk-toggleable__control:checked~label.sk-toggleable__label {background-color: #d4ebff;}#sk-container-id-1 input.sk-hidden--visually {border: 0;clip: rect(1px 1px 1px 1px);clip: rect(1px, 1px, 1px, 1px);height: 1px;margin: -1px;overflow: hidden;padding: 0;position: absolute;width: 1px;}#sk-container-id-1 div.sk-estimator {font-family: monospace;background-color: #f0f8ff;border: 1px dotted black;border-radius: 0.25em;box-sizing: border-box;margin-bottom: 0.5em;}#sk-container-id-1 div.sk-estimator:hover {background-color: #d4ebff;}#sk-container-id-1 div.sk-parallel-item::after {content: \"\";width: 100%;border-bottom: 1px solid gray;flex-grow: 1;}#sk-container-id-1 div.sk-label:hover label.sk-toggleable__label {background-color: #d4ebff;}#sk-container-id-1 div.sk-serial::before {content: \"\";position: absolute;border-left: 1px solid gray;box-sizing: border-box;top: 0;bottom: 0;left: 50%;z-index: 0;}#sk-container-id-1 div.sk-serial {display: flex;flex-direction: column;align-items: center;background-color: white;padding-right: 0.2em;padding-left: 0.2em;position: relative;}#sk-container-id-1 div.sk-item {position: relative;z-index: 1;}#sk-container-id-1 div.sk-parallel {display: flex;align-items: stretch;justify-content: center;background-color: white;position: relative;}#sk-container-id-1 div.sk-item::before, #sk-container-id-1 div.sk-parallel-item::before {content: \"\";position: absolute;border-left: 1px solid gray;box-sizing: border-box;top: 0;bottom: 0;left: 50%;z-index: -1;}#sk-container-id-1 div.sk-parallel-item {display: flex;flex-direction: column;z-index: 1;position: relative;background-color: white;}#sk-container-id-1 div.sk-parallel-item:first-child::after {align-self: flex-end;width: 50%;}#sk-container-id-1 div.sk-parallel-item:last-child::after {align-self: flex-start;width: 50%;}#sk-container-id-1 div.sk-parallel-item:only-child::after {width: 0;}#sk-container-id-1 div.sk-dashed-wrapped {border: 1px dashed gray;margin: 0 0.4em 0.5em 0.4em;box-sizing: border-box;padding-bottom: 0.4em;background-color: white;}#sk-container-id-1 div.sk-label label {font-family: monospace;font-weight: bold;display: inline-block;line-height: 1.2em;}#sk-container-id-1 div.sk-label-container {text-align: center;}#sk-container-id-1 div.sk-container {/* jupyter's `normalize.less` sets `[hidden] { display: none; }` but bootstrap.min.css set `[hidden] { display: none !important; }` so we also need the `!important` here to be able to override the default hidden behavior on the sphinx rendered scikit-learn.org. See: https://github.com/scikit-learn/scikit-learn/issues/21755 */display: inline-block !important;position: relative;}#sk-container-id-1 div.sk-text-repr-fallback {display: none;}</style><div id=\"sk-container-id-1\" class=\"sk-top-container\"><div class=\"sk-text-repr-fallback\"><pre>VotingClassifier(estimators=[(&#x27;LGBMC&#x27;,\n",
       "                              LGBMClassifier(colsample_bytree=0.5907172908133997,\n",
       "                                             learning_rate=0.09135994489595964,\n",
       "                                             max_depth=3,\n",
       "                                             min_child_weight=3.787616293272679,\n",
       "                                             n_estimators=198, n_jobs=4,\n",
       "                                             random_state=42,\n",
       "                                             subsample=0.5479761302974681)),\n",
       "                             (&#x27;RFC&#x27;,\n",
       "                              RandomForestClassifier(max_depth=14,\n",
       "                                                     max_leaf_nodes=804,\n",
       "                                                     n_estimators=735, n_jobs=4,\n",
       "                                                     random_state=42)),\n",
       "                             (...\n",
       "                                            interaction_constraints=None,\n",
       "                                            learning_rate=0.05925101071718902,\n",
       "                                            max_bin=None,\n",
       "                                            max_cat_to_onehot=None,\n",
       "                                            max_delta_step=None, max_depth=2,\n",
       "                                            max_leaves=None,\n",
       "                                            min_child_weight=8.144432018260666,\n",
       "                                            missing=nan,\n",
       "                                            monotone_constraints=None,\n",
       "                                            n_estimators=720, n_jobs=4,\n",
       "                                            num_parallel_tree=None,\n",
       "                                            predictor=None, random_state=42,\n",
       "                                            reg_alpha=None, reg_lambda=None, ...))],\n",
       "                 n_jobs=4, voting=&#x27;soft&#x27;)</pre><b>In a Jupyter environment, please rerun this cell to show the HTML representation or trust the notebook. <br />On GitHub, the HTML representation is unable to render, please try loading this page with nbviewer.org.</b></div><div class=\"sk-container\" hidden><div class=\"sk-item sk-dashed-wrapped\"><div class=\"sk-label-container\"><div class=\"sk-label sk-toggleable\"><input class=\"sk-toggleable__control sk-hidden--visually\" id=\"sk-estimator-id-1\" type=\"checkbox\" ><label for=\"sk-estimator-id-1\" class=\"sk-toggleable__label sk-toggleable__label-arrow\">VotingClassifier</label><div class=\"sk-toggleable__content\"><pre>VotingClassifier(estimators=[(&#x27;LGBMC&#x27;,\n",
       "                              LGBMClassifier(colsample_bytree=0.5907172908133997,\n",
       "                                             learning_rate=0.09135994489595964,\n",
       "                                             max_depth=3,\n",
       "                                             min_child_weight=3.787616293272679,\n",
       "                                             n_estimators=198, n_jobs=4,\n",
       "                                             random_state=42,\n",
       "                                             subsample=0.5479761302974681)),\n",
       "                             (&#x27;RFC&#x27;,\n",
       "                              RandomForestClassifier(max_depth=14,\n",
       "                                                     max_leaf_nodes=804,\n",
       "                                                     n_estimators=735, n_jobs=4,\n",
       "                                                     random_state=42)),\n",
       "                             (...\n",
       "                                            interaction_constraints=None,\n",
       "                                            learning_rate=0.05925101071718902,\n",
       "                                            max_bin=None,\n",
       "                                            max_cat_to_onehot=None,\n",
       "                                            max_delta_step=None, max_depth=2,\n",
       "                                            max_leaves=None,\n",
       "                                            min_child_weight=8.144432018260666,\n",
       "                                            missing=nan,\n",
       "                                            monotone_constraints=None,\n",
       "                                            n_estimators=720, n_jobs=4,\n",
       "                                            num_parallel_tree=None,\n",
       "                                            predictor=None, random_state=42,\n",
       "                                            reg_alpha=None, reg_lambda=None, ...))],\n",
       "                 n_jobs=4, voting=&#x27;soft&#x27;)</pre></div></div></div><div class=\"sk-parallel\"><div class=\"sk-parallel-item\"><div class=\"sk-item\"><div class=\"sk-label-container\"><div class=\"sk-label sk-toggleable\"><label>LGBMC</label></div></div><div class=\"sk-serial\"><div class=\"sk-item\"><div class=\"sk-estimator sk-toggleable\"><input class=\"sk-toggleable__control sk-hidden--visually\" id=\"sk-estimator-id-2\" type=\"checkbox\" ><label for=\"sk-estimator-id-2\" class=\"sk-toggleable__label sk-toggleable__label-arrow\">LGBMClassifier</label><div class=\"sk-toggleable__content\"><pre>LGBMClassifier(colsample_bytree=0.5907172908133997,\n",
       "               learning_rate=0.09135994489595964, max_depth=3,\n",
       "               min_child_weight=3.787616293272679, n_estimators=198, n_jobs=4,\n",
       "               random_state=42, subsample=0.5479761302974681)</pre></div></div></div></div></div></div><div class=\"sk-parallel-item\"><div class=\"sk-item\"><div class=\"sk-label-container\"><div class=\"sk-label sk-toggleable\"><label>RFC</label></div></div><div class=\"sk-serial\"><div class=\"sk-item\"><div class=\"sk-estimator sk-toggleable\"><input class=\"sk-toggleable__control sk-hidden--visually\" id=\"sk-estimator-id-3\" type=\"checkbox\" ><label for=\"sk-estimator-id-3\" class=\"sk-toggleable__label sk-toggleable__label-arrow\">RandomForestClassifier</label><div class=\"sk-toggleable__content\"><pre>RandomForestClassifier(max_depth=14, max_leaf_nodes=804, n_estimators=735,\n",
       "                       n_jobs=4, random_state=42)</pre></div></div></div></div></div></div><div class=\"sk-parallel-item\"><div class=\"sk-item\"><div class=\"sk-label-container\"><div class=\"sk-label sk-toggleable\"><label>XGBC</label></div></div><div class=\"sk-serial\"><div class=\"sk-item\"><div class=\"sk-estimator sk-toggleable\"><input class=\"sk-toggleable__control sk-hidden--visually\" id=\"sk-estimator-id-4\" type=\"checkbox\" ><label for=\"sk-estimator-id-4\" class=\"sk-toggleable__label sk-toggleable__label-arrow\">XGBClassifier</label><div class=\"sk-toggleable__content\"><pre>XGBClassifier(base_score=None, booster=None, callbacks=None,\n",
       "              colsample_bylevel=None, colsample_bynode=None,\n",
       "              colsample_bytree=0.8948914655705359, early_stopping_rounds=None,\n",
       "              enable_categorical=False, eval_metric=None, gamma=None,\n",
       "              gpu_id=None, grow_policy=None, importance_type=None,\n",
       "              interaction_constraints=None, learning_rate=0.05925101071718902,\n",
       "              max_bin=None, max_cat_to_onehot=None, max_delta_step=None,\n",
       "              max_depth=2, max_leaves=None, min_child_weight=8.144432018260666,\n",
       "              missing=nan, monotone_constraints=None, n_estimators=720,\n",
       "              n_jobs=4, num_parallel_tree=None, predictor=None, random_state=42,\n",
       "              reg_alpha=None, reg_lambda=None, ...)</pre></div></div></div></div></div></div></div></div></div></div>"
      ],
      "text/plain": [
       "VotingClassifier(estimators=[('LGBMC',\n",
       "                              LGBMClassifier(colsample_bytree=0.5907172908133997,\n",
       "                                             learning_rate=0.09135994489595964,\n",
       "                                             max_depth=3,\n",
       "                                             min_child_weight=3.787616293272679,\n",
       "                                             n_estimators=198, n_jobs=4,\n",
       "                                             random_state=42,\n",
       "                                             subsample=0.5479761302974681)),\n",
       "                             ('RFC',\n",
       "                              RandomForestClassifier(max_depth=14,\n",
       "                                                     max_leaf_nodes=804,\n",
       "                                                     n_estimators=735, n_jobs=4,\n",
       "                                                     random_state=42)),\n",
       "                             (...\n",
       "                                            interaction_constraints=None,\n",
       "                                            learning_rate=0.05925101071718902,\n",
       "                                            max_bin=None,\n",
       "                                            max_cat_to_onehot=None,\n",
       "                                            max_delta_step=None, max_depth=2,\n",
       "                                            max_leaves=None,\n",
       "                                            min_child_weight=8.144432018260666,\n",
       "                                            missing=nan,\n",
       "                                            monotone_constraints=None,\n",
       "                                            n_estimators=720, n_jobs=4,\n",
       "                                            num_parallel_tree=None,\n",
       "                                            predictor=None, random_state=42,\n",
       "                                            reg_alpha=None, reg_lambda=None, ...))],\n",
       "                 n_jobs=4, voting='soft')"
      ]
     },
     "execution_count": 28,
     "metadata": {},
     "output_type": "execute_result"
    }
   ],
   "source": [
    "model_all=VotingClassifier([(\"LGBMC\",lgb_best_model),(\"RFC\",rf_best_model),(\"XGBC\",xgb_best_model)],voting='soft',n_jobs=4)\n",
    "model_all.fit(x, y)"
   ]
  },
  {
   "cell_type": "code",
   "execution_count": null,
   "id": "bc41f259-5559-47b0-88d9-8c2cc9802fdd",
   "metadata": {},
   "outputs": [],
   "source": [
    "#각 모델별 성능"
   ]
  },
  {
   "cell_type": "code",
   "execution_count": 44,
   "id": "f02ad7a2-58d9-440f-a9d8-3d153b01e42c",
   "metadata": {},
   "outputs": [
    {
     "ename": "NameError",
     "evalue": "name 'lgb_roc_model' is not defined",
     "output_type": "error",
     "traceback": [
      "\u001b[1;31m---------------------------------------------------------------------------\u001b[0m",
      "\u001b[1;31mNameError\u001b[0m                                 Traceback (most recent call last)",
      "\u001b[1;32m~\\AppData\\Local\\Temp/ipykernel_36828/298479170.py\u001b[0m in \u001b[0;36m<module>\u001b[1;34m\u001b[0m\n\u001b[0;32m     13\u001b[0m     \u001b[1;31m#clf\u001b[0m\u001b[1;33m\u001b[0m\u001b[1;33m\u001b[0m\u001b[0m\n\u001b[0;32m     14\u001b[0m \u001b[1;33m\u001b[0m\u001b[0m\n\u001b[1;32m---> 15\u001b[1;33m     \u001b[0mlgb_roc_model\u001b[0m\u001b[1;33m.\u001b[0m\u001b[0mfit\u001b[0m\u001b[1;33m(\u001b[0m\u001b[0mx_train\u001b[0m\u001b[1;33m,\u001b[0m \u001b[0my_train\u001b[0m\u001b[1;33m)\u001b[0m \u001b[1;31m##\u001b[0m\u001b[1;33m\u001b[0m\u001b[1;33m\u001b[0m\u001b[0m\n\u001b[0m\u001b[0;32m     16\u001b[0m     \u001b[0my_test\u001b[0m \u001b[1;33m=\u001b[0m \u001b[0my_test\u001b[0m\u001b[1;33m.\u001b[0m\u001b[0mto_numpy\u001b[0m\u001b[1;33m(\u001b[0m\u001b[1;33m)\u001b[0m\u001b[1;33m\u001b[0m\u001b[1;33m\u001b[0m\u001b[0m\n\u001b[0;32m     17\u001b[0m     \u001b[0my_pred\u001b[0m \u001b[1;33m=\u001b[0m \u001b[0mlgb_roc_model\u001b[0m\u001b[1;33m.\u001b[0m\u001b[0mpredict\u001b[0m\u001b[1;33m(\u001b[0m\u001b[0mx_test\u001b[0m\u001b[1;33m)\u001b[0m\u001b[1;33m\u001b[0m\u001b[1;33m\u001b[0m\u001b[0m\n",
      "\u001b[1;31mNameError\u001b[0m: name 'lgb_roc_model' is not defined"
     ]
    }
   ],
   "source": [
    "# LGBM\n",
    "a_clf = [] \n",
    "f1_clf = [] \n",
    "\n",
    "for train_index, test_index in skf.split(x, y):\n",
    "    x_train, x_test = x.iloc[train_index], x.iloc[test_index]\n",
    "    y_train, y_test = y.iloc[train_index], y.iloc[test_index]\n",
    "   \n",
    "    #smote-tomek\n",
    "    #smt = SMOTETomek(random_state=42)\n",
    "    #smt_x, smt_y = smt.fit_resample(x_train, y_train)\n",
    " \n",
    "    #clf    \n",
    "    \n",
    "    lgb_roc_model.fit(x_train, y_train) ##\n",
    "    y_test = y_test.to_numpy()\n",
    "    y_pred = lgb_roc_model.predict(x_test)\n",
    "   \n",
    "    #score\n",
    "    accuracy = accuracy_score(y_test, y_pred)\n",
    "    a_clf.append(accuracy)\n",
    "    \n",
    "    f1 = f1_score(y_test, y_pred, average='micro')\n",
    "    f1_clf.append(f1)  "
   ]
  },
  {
   "cell_type": "code",
   "execution_count": 48,
   "id": "2a34bc23-5211-4e00-9206-fc5a119e2e8b",
   "metadata": {},
   "outputs": [
    {
     "name": "stdout",
     "output_type": "stream",
     "text": [
      "0.68751 0.68751\n"
     ]
    }
   ],
   "source": [
    "print( round(np.mean(a_clf),5), round(np.mean(f1_clf),5) )"
   ]
  },
  {
   "cell_type": "code",
   "execution_count": 53,
   "id": "ea797313-4c84-48b8-b302-07a5ea731a09",
   "metadata": {},
   "outputs": [],
   "source": [
    "# RFC\n",
    "a_clf = [] \n",
    "f1_clf = [] \n",
    "\n",
    "for train_index, test_index in skf.split(x, y):\n",
    "    x_train, x_test = x.iloc[train_index], x.iloc[test_index]\n",
    "    y_train, y_test = y.iloc[train_index], y.iloc[test_index]\n",
    "   \n",
    "    #smote-tomek\n",
    "    #smt = SMOTETomek(random_state=42)\n",
    "    #smt_x, smt_y = smt.fit_resample(x_train, y_train)\n",
    " \n",
    "    #clf    \n",
    "    rf_roc_model.fit(x_train, y_train) \n",
    "    y_test = y_test.to_numpy()\n",
    "    y_pred = rf_roc_model.predict(x_test)\n",
    "   \n",
    "    #score\n",
    "    accuracy = accuracy_score(y_test, y_pred)\n",
    "    a_clf.append(accuracy)\n",
    "    \n",
    "    f1 = f1_score(y_test, y_pred, average='micro')\n",
    "    f1_clf.append(f1)  "
   ]
  },
  {
   "cell_type": "code",
   "execution_count": 54,
   "id": "1ab0a715-ef16-4098-8100-a35b82291fb5",
   "metadata": {},
   "outputs": [
    {
     "name": "stdout",
     "output_type": "stream",
     "text": [
      "0.65768 0.65768\n"
     ]
    }
   ],
   "source": [
    "print( round(np.mean(a_clf),5), round(np.mean(f1_clf),5) )"
   ]
  },
  {
   "cell_type": "code",
   "execution_count": 55,
   "id": "85bc571f-5386-485f-86af-5f2bbef5a0ef",
   "metadata": {},
   "outputs": [],
   "source": [
    "# XGBC\n",
    "a_clf = [] \n",
    "f1_clf = [] \n",
    "\n",
    "for train_index, test_index in skf.split(x, y):\n",
    "    x_train, x_test = x.iloc[train_index], x.iloc[test_index]\n",
    "    y_train, y_test = y.iloc[train_index], y.iloc[test_index]\n",
    "   \n",
    "    #smote-tomek\n",
    "    #smt = SMOTETomek(random_state=42)\n",
    "    #smt_x, smt_y = smt.fit_resample(x_train, y_train)\n",
    " \n",
    "    #clf    \n",
    "    xgb_roc_model.fit(x_train, y_train) ##\n",
    "    y_test = y_test.to_numpy()\n",
    "    y_pred =  xgb_roc_model.predict(x_test)\n",
    "   \n",
    "    #score\n",
    "    accuracy = accuracy_score(y_test, y_pred)\n",
    "    a_clf.append(accuracy)\n",
    "    \n",
    "    f1 = f1_score(y_test, y_pred, average='micro')\n",
    "    f1_clf.append(f1)  "
   ]
  },
  {
   "cell_type": "code",
   "execution_count": 56,
   "id": "56e55127-529d-4224-899f-5d59004bf103",
   "metadata": {},
   "outputs": [
    {
     "name": "stdout",
     "output_type": "stream",
     "text": [
      "0.67403 0.67403\n"
     ]
    }
   ],
   "source": [
    "print( round(np.mean(a_clf),5), round(np.mean(f1_clf),5) )"
   ]
  },
  {
   "cell_type": "code",
   "execution_count": 36,
   "id": "09d6e08c-6323-459b-893d-fcded4f66df3",
   "metadata": {},
   "outputs": [],
   "source": [
    "#real\n",
    "preds = model_all.predict(tet_x) "
   ]
  },
  {
   "cell_type": "code",
   "execution_count": 37,
   "id": "49a37ff5-6ba6-40e8-8451-3bb8b684ff0a",
   "metadata": {},
   "outputs": [
    {
     "data": {
      "text/plain": [
       "16922"
      ]
     },
     "execution_count": 37,
     "metadata": {},
     "output_type": "execute_result"
    }
   ],
   "source": [
    "len(preds)"
   ]
  },
  {
   "cell_type": "code",
   "execution_count": 38,
   "id": "ee5abca4-bdf9-4fa2-8e41-deb0aaacf650",
   "metadata": {},
   "outputs": [],
   "source": [
    "submit = pd.read_csv(\"C:/Users/hyo/Downloads/music_data/sample_submission.csv\")"
   ]
  },
  {
   "cell_type": "code",
   "execution_count": 39,
   "id": "21b4e70f-f77b-4959-a50e-663e658bc33f",
   "metadata": {},
   "outputs": [],
   "source": [
    "submit['genre'] = le.inverse_transform(preds)"
   ]
  },
  {
   "cell_type": "code",
   "execution_count": 40,
   "id": "53b1c910-8f41-4797-9d3b-bf1bcb933192",
   "metadata": {},
   "outputs": [
    {
     "data": {
      "text/plain": [
       "0                 Hiphop\n",
       "1        Underground Rap\n",
       "2                    Emo\n",
       "3              techhouse\n",
       "4                    Pop\n",
       "              ...       \n",
       "16917          techhouse\n",
       "16918             Hiphop\n",
       "16919          hardstyle\n",
       "16920          psytrance\n",
       "16921    Underground Rap\n",
       "Name: genre, Length: 16922, dtype: object"
      ]
     },
     "execution_count": 40,
     "metadata": {},
     "output_type": "execute_result"
    }
   ],
   "source": [
    "submit['genre']"
   ]
  },
  {
   "cell_type": "code",
   "execution_count": 41,
   "id": "42ed1d61-f6a9-4d70-9c1e-51dbc5049c4b",
   "metadata": {},
   "outputs": [],
   "source": [
    "submit.to_csv('./ens_2.csv', index=False)"
   ]
  },
  {
   "cell_type": "markdown",
   "id": "2f35a2b4-0511-41fa-984d-91df5aae5490",
   "metadata": {},
   "source": [
    "* 아래는 번외로 gradient boosting 튜닝 한거 코드 만들어 놓은거\n",
    "* 근데 시간이 제일 오래걸리는 모델이라 못돌림ㅜㅜ"
   ]
  },
  {
   "cell_type": "code",
   "execution_count": null,
   "id": "c93a4857-5359-4433-9f43-272041026328",
   "metadata": {},
   "outputs": [],
   "source": [
    "'''\n",
    "# 합친거 성능 비교\n",
    "a_clf = [] \n",
    "f1_clf = [] \n",
    "\n",
    "for train_index, test_index in skf.split(x, y):\n",
    "    x_train, x_test = x.iloc[train_index], x.iloc[test_index]\n",
    "    y_train, y_test = y.iloc[train_index], y.iloc[test_index]\n",
    "   \n",
    "    #smote-tomek\n",
    "    #smt = SMOTETomek(random_state=42)\n",
    "    #smt_x, smt_y = smt.fit_resample(x_train, y_train)\n",
    " \n",
    "    #clf    \n",
    "    #model=VotingClassifier([(\"LGBMC\",lgb_best_model),(\"RFC\",rf_best_model),(\"XGBC\",xgb_best_model)],voting='soft',n_jobs=4)\n",
    "    model.fit(x_train, y_train)\n",
    "    y_test = y_test.to_numpy()\n",
    "    y_pred = model.predict(x_test)\n",
    "   \n",
    "    #score\n",
    "    accuracy = accuracy_score(y_test, y_pred)\n",
    "    a_clf.append(accuracy)\n",
    "    \n",
    "    f1 = f1_score(y_test, y_pred, average='micro')\n",
    "    f1_clf.append(f1)  \n",
    "'''\n",
    "#print( round(np.mean(a_clf),5), round(np.mean(f1_clf),5) )"
   ]
  },
  {
   "cell_type": "code",
   "execution_count": null,
   "id": "32047942-e308-4910-8702-6b5363c9585d",
   "metadata": {},
   "outputs": [],
   "source": [
    "'''\n",
    "ens_0\n",
    "{'max_depth': 13, 'n_estimators': 291, 'learning_rate': 0.05090949803242604, \n",
    " 'colsample_bytree': 0.3283831568974037, 'subsample': 0.4129695700716764, 'min_child_weight': 10.97037220101252}\n",
    "\n",
    "{'max_depth': 9, 'max_leaf_nodes': 157, 'n_estimators': 240}\n",
    "\n",
    "{'max_depth': 13, 'n_estimators': 291, 'learning_rate': 0.05090949803242604, 'colsample_bytree': 0.3283831568974037, \n",
    " 'subsample': 0.4129695700716764, 'min_child_weight': 10.97037220101252}\n",
    "'''\n",
    "\n",
    "#model=VotingClassifier([(\"LGBMC\",lgb_best_model),(\"RFC\",rf_best_model),(\"XGBC\",xgb_best_model)],voting='soft',n_jobs=4)\n",
    "#model.fit(x_train, y_train)"
   ]
  },
  {
   "cell_type": "code",
   "execution_count": null,
   "id": "48fd8567-df38-4d68-b5d8-696f4b8d101d",
   "metadata": {},
   "outputs": [],
   "source": [
    "'''\n",
    "#grad_b\n",
    "skf = StratifiedKFold(n_splits=4, shuffle=True, random_state=42)\n",
    "\n",
    "def GRAD_objective(trial):\n",
    "    max_depth = trial.suggest_int('max_depth', 1, 15)\n",
    "    n_estimators = trial.suggest_int('n_estimators', 100, 1000)\n",
    "    learning_rate = trial.suggest_float(\"learning_rate\", 4e-2, 1e-1) # default=0.1, range=[0,1]\n",
    "    #colsample_bytree = trial.suggest_float(\"colsample_bytree\", 0.2, 0.9) # feature_fraction, default=1\n",
    "    subsample = trial.suggest_float(\"subsample\", 0.2, 0.9) # bagging_fraction, default=1, range=[0,1]\n",
    "    #min_child_weight = trial.suggest_float('min_child_weight', 1, 20)\n",
    "\n",
    "    model = GradientBoostingClassifier(max_depth = max_depth, n_estimators = n_estimators, \n",
    "                                       learning_rate = learning_rate, subsample = subsample, \n",
    "                                       #min_child_weight= min_child_weight, colsample_bytree = colsample_bytree, n_jobs=4,\n",
    "                                       random_state=42)\n",
    "    score = [] \n",
    "    cv_scores = []\n",
    "    for train_index, test_index in skf.split(x, y):\n",
    "        x_train, x_test = x.iloc[train_index], x.iloc[test_index]\n",
    "        y_train, y_test = y.iloc[train_index], y.iloc[test_index]\n",
    "        \n",
    "        model.fit(x_train, y_train)\n",
    "        y_pred = model.predict_proba(x_test)\n",
    "        score = roc_auc_score(y_test, y_pred, multi_class='ovr', average='macro')      \n",
    "        cv_scores.append(score)\n",
    "        \n",
    "    return np.mean(cv_scores)\n",
    "\n",
    "grad_roc_study = optuna.create_study(direction='maximize', sampler=optuna.samplers.TPESampler(seed=42))\n",
    "grad_roc_study.optimize(GRAD_objective, n_trials=3)\n",
    "\n",
    "grad_roc_best = grad_roc_study.best_trial\n",
    "grad_roc_best_params = grad_roc_best.params\n",
    "print('score: {0}, params: {1}'.format(grad_roc_best.value, grad_roc_best_params))\n",
    "'''"
   ]
  },
  {
   "cell_type": "code",
   "execution_count": null,
   "id": "02505216-4f5a-4008-8796-84cd3e492fc1",
   "metadata": {},
   "outputs": [],
   "source": [
    "#GBC = GradientBoostingClassifier()\n",
    "#grad_roc_model = GradientBoostingClassifier(**grad_roc_best_params, n_jobs= 4, random_state=42)"
   ]
  },
  {
   "cell_type": "markdown",
   "id": "d814316f-d9a6-4522-b377-c5545d479187",
   "metadata": {},
   "source": [
    "### 느낀점\n",
    "* 시간이 부족해서 파라미터 튜닝을 제대로 못한게 너무 아쉬웠다ㅜㅜ\n",
    "* 시간이 없다면 케이폴드는 중요한 곳에서만 쓰자,,\n",
    "* 툴 아는것은 중요하다\n",
    "* 기술적인 것에 치우쳐 목적을 잊지 말자"
   ]
  }
 ],
 "metadata": {
  "kernelspec": {
   "display_name": "Python 3 (ipykernel)",
   "language": "python",
   "name": "python3"
  },
  "language_info": {
   "codemirror_mode": {
    "name": "ipython",
    "version": 3
   },
   "file_extension": ".py",
   "mimetype": "text/x-python",
   "name": "python",
   "nbconvert_exporter": "python",
   "pygments_lexer": "ipython3",
   "version": "3.9.7"
  }
 },
 "nbformat": 4,
 "nbformat_minor": 5
}
