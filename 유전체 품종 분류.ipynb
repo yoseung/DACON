{
 "cells": [
  {
   "cell_type": "markdown",
   "id": "6c812522-60a3-4ca3-b93e-8ef0c2acd672",
   "metadata": {},
   "source": [
    "### DACON_유전체 정보 품종 분류: svc"
   ]
  },
  {
   "cell_type": "markdown",
   "id": "d41ae50a-97ae-42ce-8303-ca6e4ffa3da2",
   "metadata": {},
   "source": [
    "* eda 결과를 보면 피처 trait이 1인것은 모두 품종이 A이기에 각각 분류기를 따로 만들었음.\n",
    "* 분류를 하기 위해서는 차이가 명확해야한다는 생각으로 카이제곱을 통해 통계량의 값이 같다고 나오는 피처를 탐색하여 제고하고자 함. 각 snp별로 가질수 있는 형질별 품종의 비율이 같은지에 대해, 각 snp별 하나의 형질에서 가질수 품종의 비율이 같은지에 대해 카이제곱을 진행한 결과 두 가지 모두 유의수준 0.01로 유의하게 나온건 snp3밖에 없었다. (이 논리가 맞는지 모르겠지만 일단 해봤다)\n",
    "* 추가)\n",
    "* 이상치 확인을 위해 3차원에서 사분위 수를 이용하여 이상치제거를 하였지만 성능개선에 도움이 안됐음"
   ]
  },
  {
   "cell_type": "code",
   "execution_count": 2,
   "id": "469bcda4-142a-46a4-83e2-e38fbbb129e7",
   "metadata": {},
   "outputs": [],
   "source": [
    "import numpy as np\n",
    "import pandas as pd\n",
    "import numpy as np\n",
    "import pandas as pd\n",
    "import seaborn as sns\n",
    "import matplotlib.pyplot as plt\n",
    "from sklearn import preprocessing\n",
    "from sklearn.preprocessing import LabelEncoder\n",
    "test_path = 'C:/Users/hyo/Downloads/snp_data/test.csv'\n",
    "train_path = \"C:/Users/hyo/Downloads/snp_data/train.csv\"\n",
    "train = pd.read_csv(train_path)\n",
    "test = pd.read_csv(test_path)"
   ]
  },
  {
   "cell_type": "code",
   "execution_count": 3,
   "id": "0ba0b71d-16d0-4e7a-963c-46e30ceb1817",
   "metadata": {},
   "outputs": [
    {
     "name": "stdout",
     "output_type": "stream",
     "text": [
      "193\n"
     ]
    }
   ],
   "source": [
    "#분류기 나누기\n",
    "id_test = test['id']\n",
    "A_test_id = test[test['trait']==1].index\n",
    "BC_test_id = test[test['trait']!=1].index\n",
    "\n",
    "train = train.drop(train[train['trait']==1].index)\n",
    "test = test.drop(test[test['trait']==1].index)\n",
    "\n",
    "train_len = len(train)\n",
    "print(train_len)"
   ]
  },
  {
   "cell_type": "code",
   "execution_count": 4,
   "id": "bcf3ce29-764c-4270-a4eb-f2600e1f6d4f",
   "metadata": {},
   "outputs": [],
   "source": [
    "train = train.drop(columns = [\"id\", \"father\",\"mother\",\"gender\",\"trait\"])\n",
    "test = test.drop(columns = [\"id\", \"father\",\"mother\",\"gender\",\"trait\"])"
   ]
  },
  {
   "cell_type": "code",
   "execution_count": 5,
   "id": "a673d184-7037-498c-93a9-247c3af64444",
   "metadata": {},
   "outputs": [],
   "source": [
    "dataset = pd.concat([train,test],axis=0)"
   ]
  },
  {
   "cell_type": "code",
   "execution_count": 6,
   "id": "0d7edd5d-b376-4fdb-9ae5-4c0d4fa16ec5",
   "metadata": {},
   "outputs": [],
   "source": [
    "#snp3제거\n",
    "dataset = dataset.drop(columns = \"SNP_03\")"
   ]
  },
  {
   "cell_type": "code",
   "execution_count": 7,
   "id": "3e964b10-5413-4f1f-92ba-253f49efe32e",
   "metadata": {},
   "outputs": [],
   "source": [
    "#염색체 정보별\n",
    "dataset['chrom_9'] = dataset['SNP_12']+\"-\"+dataset['SNP_13']+\"-\"+dataset['SNP_14']\n",
    "dataset['chrom_6'] = dataset['SNP_02']+\"-\"+dataset['SNP_04']+\"-\"+dataset['SNP_05']+\"-\"+dataset['SNP_06']+\"-\"+dataset['SNP_07']+\"-\"+dataset['SNP_08']+\"-\"+dataset['SNP_09']"
   ]
  },
  {
   "cell_type": "code",
   "execution_count": 8,
   "id": "9f77dbc2-8092-4988-9b0f-e8db9f1cdcf2",
   "metadata": {},
   "outputs": [],
   "source": [
    "#공통된 이름별\n",
    "dataset['Bov'] = dataset['SNP_05']+\"-\"+dataset['SNP_06']+\"-\"+dataset['SNP_08']+\"-\"+dataset['SNP_15']\n",
    "dataset['Hap'] = dataset['SNP_07']+\"-\"+dataset['SNP_12']+\"-\"+dataset['SNP_14']\n",
    "dataset['BTB'] = dataset['SNP_10']+\"-\"+dataset['SNP_13']\n",
    "dataset['ARS'] = dataset['SNP_02']+\"-\"+dataset['SNP_04']+\"-\"+dataset['SNP_09']+\"-\"+dataset['SNP_11']"
   ]
  },
  {
   "cell_type": "code",
   "execution_count": 9,
   "id": "88d6ee6e-d65d-4d18-84b7-b7e16a8af246",
   "metadata": {},
   "outputs": [],
   "source": [
    "# 전체 \n",
    "dataset['all_snp'] =  dataset['SNP_01']+\"-\"+dataset['SNP_02']+\"-\"+dataset['SNP_04']+\"-\"+dataset['SNP_05']+\"-\"+dataset['SNP_06']+\"-\"+dataset['SNP_07']+\"-\"+ dataset['SNP_08']+\"-\"+dataset['SNP_09']+\"-\"+dataset['SNP_10']+\"-\"+dataset['SNP_11']+\"-\"+dataset['SNP_12']+\"-\"+dataset['SNP_13']+\"-\"+dataset['SNP_14']+\"-\"+dataset['SNP_15']"
   ]
  },
  {
   "cell_type": "code",
   "execution_count": 10,
   "id": "7506e164-aaa0-4a41-88f2-da7606aaf1c8",
   "metadata": {},
   "outputs": [],
   "source": [
    "#원핫\n",
    "dataset_ohe = pd.get_dummies(dataset,columns = dataset.columns.drop(\"class\"),drop_first=True) #multicollinearity를 막기위한 drop_first 옵션\n",
    "train_ohe = dataset_ohe[:train_len].copy()\n",
    "test_ohe = dataset_ohe[train_len:].copy().drop(columns=\"class\")\n",
    "\n",
    "class_map = {\"A\":0,\"B\":1,\"C\":2}\n",
    "train_ohe[\"class\"]=train_ohe[\"class\"].map(class_map).astype(int)\n",
    "X_train_ohe = train_ohe.drop(columns = \"class\")\n",
    "Y_train_ohe = train_ohe[\"class\"]"
   ]
  },
  {
   "cell_type": "code",
   "execution_count": 11,
   "id": "ed3a63cf-3e50-4479-85d2-efad37b26954",
   "metadata": {},
   "outputs": [],
   "source": [
    "from sklearn.svm import SVC"
   ]
  },
  {
   "cell_type": "code",
   "execution_count": 12,
   "id": "b054fd95-6a95-487e-8ad1-76cc101cb0ad",
   "metadata": {},
   "outputs": [
    {
     "data": {
      "text/html": [
       "<style>#sk-container-id-1 {color: black;background-color: white;}#sk-container-id-1 pre{padding: 0;}#sk-container-id-1 div.sk-toggleable {background-color: white;}#sk-container-id-1 label.sk-toggleable__label {cursor: pointer;display: block;width: 100%;margin-bottom: 0;padding: 0.3em;box-sizing: border-box;text-align: center;}#sk-container-id-1 label.sk-toggleable__label-arrow:before {content: \"▸\";float: left;margin-right: 0.25em;color: #696969;}#sk-container-id-1 label.sk-toggleable__label-arrow:hover:before {color: black;}#sk-container-id-1 div.sk-estimator:hover label.sk-toggleable__label-arrow:before {color: black;}#sk-container-id-1 div.sk-toggleable__content {max-height: 0;max-width: 0;overflow: hidden;text-align: left;background-color: #f0f8ff;}#sk-container-id-1 div.sk-toggleable__content pre {margin: 0.2em;color: black;border-radius: 0.25em;background-color: #f0f8ff;}#sk-container-id-1 input.sk-toggleable__control:checked~div.sk-toggleable__content {max-height: 200px;max-width: 100%;overflow: auto;}#sk-container-id-1 input.sk-toggleable__control:checked~label.sk-toggleable__label-arrow:before {content: \"▾\";}#sk-container-id-1 div.sk-estimator input.sk-toggleable__control:checked~label.sk-toggleable__label {background-color: #d4ebff;}#sk-container-id-1 div.sk-label input.sk-toggleable__control:checked~label.sk-toggleable__label {background-color: #d4ebff;}#sk-container-id-1 input.sk-hidden--visually {border: 0;clip: rect(1px 1px 1px 1px);clip: rect(1px, 1px, 1px, 1px);height: 1px;margin: -1px;overflow: hidden;padding: 0;position: absolute;width: 1px;}#sk-container-id-1 div.sk-estimator {font-family: monospace;background-color: #f0f8ff;border: 1px dotted black;border-radius: 0.25em;box-sizing: border-box;margin-bottom: 0.5em;}#sk-container-id-1 div.sk-estimator:hover {background-color: #d4ebff;}#sk-container-id-1 div.sk-parallel-item::after {content: \"\";width: 100%;border-bottom: 1px solid gray;flex-grow: 1;}#sk-container-id-1 div.sk-label:hover label.sk-toggleable__label {background-color: #d4ebff;}#sk-container-id-1 div.sk-serial::before {content: \"\";position: absolute;border-left: 1px solid gray;box-sizing: border-box;top: 0;bottom: 0;left: 50%;z-index: 0;}#sk-container-id-1 div.sk-serial {display: flex;flex-direction: column;align-items: center;background-color: white;padding-right: 0.2em;padding-left: 0.2em;position: relative;}#sk-container-id-1 div.sk-item {position: relative;z-index: 1;}#sk-container-id-1 div.sk-parallel {display: flex;align-items: stretch;justify-content: center;background-color: white;position: relative;}#sk-container-id-1 div.sk-item::before, #sk-container-id-1 div.sk-parallel-item::before {content: \"\";position: absolute;border-left: 1px solid gray;box-sizing: border-box;top: 0;bottom: 0;left: 50%;z-index: -1;}#sk-container-id-1 div.sk-parallel-item {display: flex;flex-direction: column;z-index: 1;position: relative;background-color: white;}#sk-container-id-1 div.sk-parallel-item:first-child::after {align-self: flex-end;width: 50%;}#sk-container-id-1 div.sk-parallel-item:last-child::after {align-self: flex-start;width: 50%;}#sk-container-id-1 div.sk-parallel-item:only-child::after {width: 0;}#sk-container-id-1 div.sk-dashed-wrapped {border: 1px dashed gray;margin: 0 0.4em 0.5em 0.4em;box-sizing: border-box;padding-bottom: 0.4em;background-color: white;}#sk-container-id-1 div.sk-label label {font-family: monospace;font-weight: bold;display: inline-block;line-height: 1.2em;}#sk-container-id-1 div.sk-label-container {text-align: center;}#sk-container-id-1 div.sk-container {/* jupyter's `normalize.less` sets `[hidden] { display: none; }` but bootstrap.min.css set `[hidden] { display: none !important; }` so we also need the `!important` here to be able to override the default hidden behavior on the sphinx rendered scikit-learn.org. See: https://github.com/scikit-learn/scikit-learn/issues/21755 */display: inline-block !important;position: relative;}#sk-container-id-1 div.sk-text-repr-fallback {display: none;}</style><div id=\"sk-container-id-1\" class=\"sk-top-container\"><div class=\"sk-text-repr-fallback\"><pre>SVC(C=100, kernel=&#x27;linear&#x27;)</pre><b>In a Jupyter environment, please rerun this cell to show the HTML representation or trust the notebook. <br />On GitHub, the HTML representation is unable to render, please try loading this page with nbviewer.org.</b></div><div class=\"sk-container\" hidden><div class=\"sk-item\"><div class=\"sk-estimator sk-toggleable\"><input class=\"sk-toggleable__control sk-hidden--visually\" id=\"sk-estimator-id-1\" type=\"checkbox\" checked><label for=\"sk-estimator-id-1\" class=\"sk-toggleable__label sk-toggleable__label-arrow\">SVC</label><div class=\"sk-toggleable__content\"><pre>SVC(C=100, kernel=&#x27;linear&#x27;)</pre></div></div></div></div></div>"
      ],
      "text/plain": [
       "SVC(C=100, kernel='linear')"
      ]
     },
     "execution_count": 12,
     "metadata": {},
     "output_type": "execute_result"
    }
   ],
   "source": [
    "reg = SVC(C=100, kernel='linear') \n",
    "reg.fit(X_train_ohe, Y_train_ohe) "
   ]
  },
  {
   "cell_type": "code",
   "execution_count": 13,
   "id": "d1b33715-2ea9-4fb0-be08-a7a0ebaf55bc",
   "metadata": {},
   "outputs": [],
   "source": [
    "results=reg.predict(test_ohe)"
   ]
  },
  {
   "cell_type": "code",
   "execution_count": 14,
   "id": "eabaf39c-447e-44fd-8505-2db7413cdef3",
   "metadata": {},
   "outputs": [],
   "source": [
    "df_result = pd.DataFrame(results)\n",
    "df_result['class'] = results"
   ]
  },
  {
   "cell_type": "code",
   "execution_count": 15,
   "id": "634f90c3-148b-4056-ae35-e1c617fb36a5",
   "metadata": {},
   "outputs": [],
   "source": [
    "de_result = df_result.drop(columns=0)"
   ]
  },
  {
   "cell_type": "code",
   "execution_count": 16,
   "id": "febb00f5-ba97-490a-afd5-e37fa56a0bb9",
   "metadata": {},
   "outputs": [],
   "source": [
    "A = pd.DataFrame(A_test_id)\n",
    "A['class'] = 'A'\n",
    "A = A.rename(columns={0:'index'})"
   ]
  },
  {
   "cell_type": "code",
   "execution_count": 17,
   "id": "903148c2-f428-4bc4-85ac-eb5ae487b7b5",
   "metadata": {},
   "outputs": [],
   "source": [
    "BC = pd.DataFrame(BC_test_id)\n",
    "BC = BC.rename(columns={0:'index'})"
   ]
  },
  {
   "cell_type": "code",
   "execution_count": 18,
   "id": "a0661989-e404-41a6-be01-91a12528f52a",
   "metadata": {},
   "outputs": [],
   "source": [
    "BC = pd.concat((BC,df_result), axis=1)"
   ]
  },
  {
   "cell_type": "code",
   "execution_count": 19,
   "id": "90714fd5-7a19-4169-81b1-ef553f55b9a0",
   "metadata": {},
   "outputs": [],
   "source": [
    "BC = BC.drop(columns=0)"
   ]
  },
  {
   "cell_type": "code",
   "execution_count": 20,
   "id": "2c20cd9d-a2cd-4e68-b0f1-8e1bcf9afa15",
   "metadata": {},
   "outputs": [],
   "source": [
    "result = pd.concat((A,BC), axis=0)\n",
    "result.set_index('index', inplace=True)"
   ]
  },
  {
   "cell_type": "code",
   "execution_count": 21,
   "id": "bb664f24-a49d-4702-a2b0-3bd2fcacde7f",
   "metadata": {},
   "outputs": [],
   "source": [
    "result.sort_index(inplace=True)"
   ]
  },
  {
   "cell_type": "code",
   "execution_count": 22,
   "id": "f7767c6a-6fbc-4b51-bafd-f3bb2eed966e",
   "metadata": {},
   "outputs": [],
   "source": [
    "class_map_inv = {\"A\":\"A\",1:\"B\",2:\"C\"}\n",
    "result[\"class\"] = result[\"class\"].map(class_map_inv)"
   ]
  },
  {
   "cell_type": "code",
   "execution_count": 23,
   "id": "29891cb7-d2cc-43e6-b99a-634901cdf6fe",
   "metadata": {},
   "outputs": [],
   "source": [
    "result['id'] = id_test"
   ]
  },
  {
   "cell_type": "code",
   "execution_count": 26,
   "id": "53e046dd-b53e-4146-8f37-7bbcdbaeeae4",
   "metadata": {},
   "outputs": [
    {
     "data": {
      "text/html": [
       "<div>\n",
       "<style scoped>\n",
       "    .dataframe tbody tr th:only-of-type {\n",
       "        vertical-align: middle;\n",
       "    }\n",
       "\n",
       "    .dataframe tbody tr th {\n",
       "        vertical-align: top;\n",
       "    }\n",
       "\n",
       "    .dataframe thead th {\n",
       "        text-align: right;\n",
       "    }\n",
       "</style>\n",
       "<table border=\"1\" class=\"dataframe\">\n",
       "  <thead>\n",
       "    <tr style=\"text-align: right;\">\n",
       "      <th></th>\n",
       "      <th>id</th>\n",
       "      <th>class</th>\n",
       "    </tr>\n",
       "    <tr>\n",
       "      <th>index</th>\n",
       "      <th></th>\n",
       "      <th></th>\n",
       "    </tr>\n",
       "  </thead>\n",
       "  <tbody>\n",
       "    <tr>\n",
       "      <th>0</th>\n",
       "      <td>TEST_000</td>\n",
       "      <td>A</td>\n",
       "    </tr>\n",
       "    <tr>\n",
       "      <th>1</th>\n",
       "      <td>TEST_001</td>\n",
       "      <td>B</td>\n",
       "    </tr>\n",
       "    <tr>\n",
       "      <th>2</th>\n",
       "      <td>TEST_002</td>\n",
       "      <td>C</td>\n",
       "    </tr>\n",
       "    <tr>\n",
       "      <th>3</th>\n",
       "      <td>TEST_003</td>\n",
       "      <td>B</td>\n",
       "    </tr>\n",
       "    <tr>\n",
       "      <th>4</th>\n",
       "      <td>TEST_004</td>\n",
       "      <td>A</td>\n",
       "    </tr>\n",
       "    <tr>\n",
       "      <th>...</th>\n",
       "      <td>...</td>\n",
       "      <td>...</td>\n",
       "    </tr>\n",
       "    <tr>\n",
       "      <th>170</th>\n",
       "      <td>TEST_170</td>\n",
       "      <td>B</td>\n",
       "    </tr>\n",
       "    <tr>\n",
       "      <th>171</th>\n",
       "      <td>TEST_171</td>\n",
       "      <td>C</td>\n",
       "    </tr>\n",
       "    <tr>\n",
       "      <th>172</th>\n",
       "      <td>TEST_172</td>\n",
       "      <td>C</td>\n",
       "    </tr>\n",
       "    <tr>\n",
       "      <th>173</th>\n",
       "      <td>TEST_173</td>\n",
       "      <td>B</td>\n",
       "    </tr>\n",
       "    <tr>\n",
       "      <th>174</th>\n",
       "      <td>TEST_174</td>\n",
       "      <td>B</td>\n",
       "    </tr>\n",
       "  </tbody>\n",
       "</table>\n",
       "<p>175 rows × 2 columns</p>\n",
       "</div>"
      ],
      "text/plain": [
       "             id class\n",
       "index                \n",
       "0      TEST_000     A\n",
       "1      TEST_001     B\n",
       "2      TEST_002     C\n",
       "3      TEST_003     B\n",
       "4      TEST_004     A\n",
       "...         ...   ...\n",
       "170    TEST_170     B\n",
       "171    TEST_171     C\n",
       "172    TEST_172     C\n",
       "173    TEST_173     B\n",
       "174    TEST_174     B\n",
       "\n",
       "[175 rows x 2 columns]"
      ]
     },
     "execution_count": 26,
     "metadata": {},
     "output_type": "execute_result"
    }
   ],
   "source": [
    "result = result[['id', 'class']]\n",
    "result"
   ]
  },
  {
   "cell_type": "code",
   "execution_count": 27,
   "id": "fc7f857f-7dbd-4c0f-a607-56290afa4096",
   "metadata": {},
   "outputs": [],
   "source": [
    "result.to_csv('./svc.csv', index=False)"
   ]
  },
  {
   "cell_type": "markdown",
   "id": "323ed7b4-a327-4f21-80c5-dcd093e0351c",
   "metadata": {},
   "source": [
    "#### 느낀점\n",
    "* 분류기는 절대로 따로 만들면 안된다. 데이터도 부족한데 더 부족해지게 만드는 거니까. 차라리 이번과 상황이 같다면 다 합쳐서 예측하고 그다음 특징이 1인것의 값을 'A'로 바꿔주도록 하자.\n",
    "* 카이제곱 함부로 활용하면 안된다. 자칫하면 가중치를 잘못 두는 거기에 학습이 잘못될수 있다.(솔직히 저기서 쓴것도 논리 빈약)\n",
    "* 차원의 저주 조심하자.\n",
    "* 데이터 수가 적을수록 학습과 테스트 데이터 셋의 예측력 사이 변동은 커진다.(이상치도 조심해서 빼야함)\n",
    "* lightgbm은 데이터수가 만개 이상 될때 추천한다.\n",
    "* eda 정말 중요하다.\n",
    "* 예상외로 서브정보가 많은 도움이 된다.\n",
    "* 데이콘 대회는 자동으로 점수가 가장 높은게 올라가기에 마지막 제출전 같은 점수라면 최근 파일로 제출을 변경할 것.\n",
    "* `툴 아는것이 중요하다`"
   ]
  },
  {
   "cell_type": "code",
   "execution_count": null,
   "id": "a816a457-b42d-4335-8205-97ffb9c86d57",
   "metadata": {},
   "outputs": [],
   "source": []
  }
 ],
 "metadata": {
  "kernelspec": {
   "display_name": "Python 3 (ipykernel)",
   "language": "python",
   "name": "python3"
  },
  "language_info": {
   "codemirror_mode": {
    "name": "ipython",
    "version": 3
   },
   "file_extension": ".py",
   "mimetype": "text/x-python",
   "name": "python",
   "nbconvert_exporter": "python",
   "pygments_lexer": "ipython3",
   "version": "3.9.7"
  }
 },
 "nbformat": 4,
 "nbformat_minor": 5
}
